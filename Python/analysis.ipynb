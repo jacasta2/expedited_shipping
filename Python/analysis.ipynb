{
 "cells": [
  {
   "attachments": {},
   "cell_type": "markdown",
   "metadata": {},
   "source": [
    "# Expedited shipping\n",
    "\n",
    "This notebook contains the code to run all the analyses we report in a paper revision. Please refer to this repo's README to get a sense of the experiment and the rationale of the analyses we report in this notebook."
   ]
  },
  {
   "attachments": {},
   "cell_type": "markdown",
   "metadata": {},
   "source": [
    "## Libraries\n",
    "\n",
    "We start by loading all the necessary libraries and supporting scripts to run the analyses."
   ]
  },
  {
   "cell_type": "code",
   "execution_count": 1,
   "metadata": {},
   "outputs": [],
   "source": [
    "import pandas as pd\n",
    "import numpy as np\n",
    "import matplotlib.pyplot as plt\n",
    "import seaborn as sns\n",
    "import pingouin\n",
    "from scipy.stats import f_oneway, kruskal\n",
    "from statsmodels.stats.multicomp import pairwise_tukeyhsd\n",
    "from linearmodels import RandomEffects\n",
    "import statsmodels as sm\n",
    "import helper_functions as h_f"
   ]
  },
  {
   "attachments": {},
   "cell_type": "markdown",
   "metadata": {},
   "source": [
    "## Basic data wrangling\n",
    "\n",
    "We perform a basic data wrangling to engineer additional features that will allow us to run random-effects (RE) models and simplify the interpretation of the regression results associated with categorical variables."
   ]
  },
  {
   "cell_type": "code",
   "execution_count": 2,
   "metadata": {},
   "outputs": [
    {
     "data": {
      "text/html": [
       "<div>\n",
       "<style scoped>\n",
       "    .dataframe tbody tr th:only-of-type {\n",
       "        vertical-align: middle;\n",
       "    }\n",
       "\n",
       "    .dataframe tbody tr th {\n",
       "        vertical-align: top;\n",
       "    }\n",
       "\n",
       "    .dataframe thead th {\n",
       "        text-align: right;\n",
       "    }\n",
       "</style>\n",
       "<table border=\"1\" class=\"dataframe\">\n",
       "  <thead>\n",
       "    <tr style=\"text-align: right;\">\n",
       "      <th></th>\n",
       "      <th>subject_id</th>\n",
       "      <th>round</th>\n",
       "      <th>overall_round</th>\n",
       "      <th>price</th>\n",
       "      <th>cost</th>\n",
       "      <th>service_level</th>\n",
       "      <th>expediting_cost</th>\n",
       "      <th>salvage_value</th>\n",
       "      <th>optimum</th>\n",
       "      <th>order</th>\n",
       "      <th>demand</th>\n",
       "      <th>leftover</th>\n",
       "      <th>shortage</th>\n",
       "      <th>lagleftover</th>\n",
       "      <th>lagshortage</th>\n",
       "      <th>lagdemand</th>\n",
       "      <th>gender</th>\n",
       "      <th>age</th>\n",
       "      <th>semester</th>\n",
       "      <th>related_course</th>\n",
       "      <th>program</th>\n",
       "      <th>treatment_id</th>\n",
       "      <th>included_treatment</th>\n",
       "      <th>study</th>\n",
       "      <th>experiment</th>\n",
       "      <th>playing_order</th>\n",
       "      <th>bundle</th>\n",
       "    </tr>\n",
       "  </thead>\n",
       "  <tbody>\n",
       "    <tr>\n",
       "      <th>0</th>\n",
       "      <td>1</td>\n",
       "      <td>1</td>\n",
       "      <td>1</td>\n",
       "      <td>12</td>\n",
       "      <td>3.0</td>\n",
       "      <td>0.0</td>\n",
       "      <td>0</td>\n",
       "      <td>0</td>\n",
       "      <td>75.0</td>\n",
       "      <td>95</td>\n",
       "      <td>32</td>\n",
       "      <td>63</td>\n",
       "      <td>0</td>\n",
       "      <td>NaN</td>\n",
       "      <td>NaN</td>\n",
       "      <td>NaN</td>\n",
       "      <td>Female</td>\n",
       "      <td>2.0</td>\n",
       "      <td>7.0</td>\n",
       "      <td>Past semesters</td>\n",
       "      <td>Business</td>\n",
       "      <td>1</td>\n",
       "      <td>0</td>\n",
       "      <td>Base study</td>\n",
       "      <td>Main</td>\n",
       "      <td>NaN</td>\n",
       "      <td>NaN</td>\n",
       "    </tr>\n",
       "    <tr>\n",
       "      <th>1</th>\n",
       "      <td>1</td>\n",
       "      <td>2</td>\n",
       "      <td>2</td>\n",
       "      <td>12</td>\n",
       "      <td>3.0</td>\n",
       "      <td>0.0</td>\n",
       "      <td>0</td>\n",
       "      <td>0</td>\n",
       "      <td>75.0</td>\n",
       "      <td>30</td>\n",
       "      <td>43</td>\n",
       "      <td>0</td>\n",
       "      <td>13</td>\n",
       "      <td>63.0</td>\n",
       "      <td>0.0</td>\n",
       "      <td>32.0</td>\n",
       "      <td>Female</td>\n",
       "      <td>2.0</td>\n",
       "      <td>7.0</td>\n",
       "      <td>Past semesters</td>\n",
       "      <td>Business</td>\n",
       "      <td>1</td>\n",
       "      <td>0</td>\n",
       "      <td>Base study</td>\n",
       "      <td>Main</td>\n",
       "      <td>NaN</td>\n",
       "      <td>NaN</td>\n",
       "    </tr>\n",
       "    <tr>\n",
       "      <th>2</th>\n",
       "      <td>1</td>\n",
       "      <td>3</td>\n",
       "      <td>3</td>\n",
       "      <td>12</td>\n",
       "      <td>3.0</td>\n",
       "      <td>0.0</td>\n",
       "      <td>0</td>\n",
       "      <td>0</td>\n",
       "      <td>75.0</td>\n",
       "      <td>45</td>\n",
       "      <td>13</td>\n",
       "      <td>32</td>\n",
       "      <td>0</td>\n",
       "      <td>0.0</td>\n",
       "      <td>13.0</td>\n",
       "      <td>43.0</td>\n",
       "      <td>Female</td>\n",
       "      <td>2.0</td>\n",
       "      <td>7.0</td>\n",
       "      <td>Past semesters</td>\n",
       "      <td>Business</td>\n",
       "      <td>1</td>\n",
       "      <td>0</td>\n",
       "      <td>Base study</td>\n",
       "      <td>Main</td>\n",
       "      <td>NaN</td>\n",
       "      <td>NaN</td>\n",
       "    </tr>\n",
       "    <tr>\n",
       "      <th>3</th>\n",
       "      <td>1</td>\n",
       "      <td>4</td>\n",
       "      <td>4</td>\n",
       "      <td>12</td>\n",
       "      <td>3.0</td>\n",
       "      <td>0.0</td>\n",
       "      <td>0</td>\n",
       "      <td>0</td>\n",
       "      <td>75.0</td>\n",
       "      <td>50</td>\n",
       "      <td>12</td>\n",
       "      <td>38</td>\n",
       "      <td>0</td>\n",
       "      <td>32.0</td>\n",
       "      <td>0.0</td>\n",
       "      <td>13.0</td>\n",
       "      <td>Female</td>\n",
       "      <td>2.0</td>\n",
       "      <td>7.0</td>\n",
       "      <td>Past semesters</td>\n",
       "      <td>Business</td>\n",
       "      <td>1</td>\n",
       "      <td>0</td>\n",
       "      <td>Base study</td>\n",
       "      <td>Main</td>\n",
       "      <td>NaN</td>\n",
       "      <td>NaN</td>\n",
       "    </tr>\n",
       "    <tr>\n",
       "      <th>4</th>\n",
       "      <td>1</td>\n",
       "      <td>5</td>\n",
       "      <td>5</td>\n",
       "      <td>12</td>\n",
       "      <td>3.0</td>\n",
       "      <td>0.0</td>\n",
       "      <td>0</td>\n",
       "      <td>0</td>\n",
       "      <td>75.0</td>\n",
       "      <td>74</td>\n",
       "      <td>6</td>\n",
       "      <td>68</td>\n",
       "      <td>0</td>\n",
       "      <td>38.0</td>\n",
       "      <td>0.0</td>\n",
       "      <td>12.0</td>\n",
       "      <td>Female</td>\n",
       "      <td>2.0</td>\n",
       "      <td>7.0</td>\n",
       "      <td>Past semesters</td>\n",
       "      <td>Business</td>\n",
       "      <td>1</td>\n",
       "      <td>0</td>\n",
       "      <td>Base study</td>\n",
       "      <td>Main</td>\n",
       "      <td>NaN</td>\n",
       "      <td>NaN</td>\n",
       "    </tr>\n",
       "  </tbody>\n",
       "</table>\n",
       "</div>"
      ],
      "text/plain": [
       "   subject_id  round  overall_round  price  cost  service_level  \\\n",
       "0           1      1              1     12   3.0            0.0   \n",
       "1           1      2              2     12   3.0            0.0   \n",
       "2           1      3              3     12   3.0            0.0   \n",
       "3           1      4              4     12   3.0            0.0   \n",
       "4           1      5              5     12   3.0            0.0   \n",
       "\n",
       "   expediting_cost  salvage_value  optimum  order  demand  leftover  shortage  \\\n",
       "0                0              0     75.0     95      32        63         0   \n",
       "1                0              0     75.0     30      43         0        13   \n",
       "2                0              0     75.0     45      13        32         0   \n",
       "3                0              0     75.0     50      12        38         0   \n",
       "4                0              0     75.0     74       6        68         0   \n",
       "\n",
       "   lagleftover  lagshortage  lagdemand  gender  age  semester  related_course  \\\n",
       "0          NaN          NaN        NaN  Female  2.0       7.0  Past semesters   \n",
       "1         63.0          0.0       32.0  Female  2.0       7.0  Past semesters   \n",
       "2          0.0         13.0       43.0  Female  2.0       7.0  Past semesters   \n",
       "3         32.0          0.0       13.0  Female  2.0       7.0  Past semesters   \n",
       "4         38.0          0.0       12.0  Female  2.0       7.0  Past semesters   \n",
       "\n",
       "    program  treatment_id  included_treatment       study experiment  \\\n",
       "0  Business             1                   0  Base study       Main   \n",
       "1  Business             1                   0  Base study       Main   \n",
       "2  Business             1                   0  Base study       Main   \n",
       "3  Business             1                   0  Base study       Main   \n",
       "4  Business             1                   0  Base study       Main   \n",
       "\n",
       "   playing_order bundle  \n",
       "0            NaN    NaN  \n",
       "1            NaN    NaN  \n",
       "2            NaN    NaN  \n",
       "3            NaN    NaN  \n",
       "4            NaN    NaN  "
      ]
     },
     "execution_count": 2,
     "metadata": {},
     "output_type": "execute_result"
    }
   ],
   "source": [
    "# We tell pandas we want to see all the columns from our dataset\n",
    "pd.set_option(\"display.max_columns\", None)\n",
    "\n",
    "# We load the dataset\n",
    "rawData = pd.read_csv(\"raw_data_r1.csv\")\n",
    "rawData.head()"
   ]
  },
  {
   "cell_type": "code",
   "execution_count": 3,
   "metadata": {},
   "outputs": [
    {
     "data": {
      "text/html": [
       "<div>\n",
       "<style scoped>\n",
       "    .dataframe tbody tr th:only-of-type {\n",
       "        vertical-align: middle;\n",
       "    }\n",
       "\n",
       "    .dataframe tbody tr th {\n",
       "        vertical-align: top;\n",
       "    }\n",
       "\n",
       "    .dataframe thead th {\n",
       "        text-align: right;\n",
       "    }\n",
       "</style>\n",
       "<table border=\"1\" class=\"dataframe\">\n",
       "  <thead>\n",
       "    <tr style=\"text-align: right;\">\n",
       "      <th></th>\n",
       "      <th>subject_id</th>\n",
       "      <th>round</th>\n",
       "      <th>overall_round</th>\n",
       "      <th>price</th>\n",
       "      <th>cost</th>\n",
       "      <th>service_level</th>\n",
       "      <th>expediting_cost</th>\n",
       "      <th>salvage_value</th>\n",
       "      <th>optimum</th>\n",
       "      <th>order</th>\n",
       "      <th>demand</th>\n",
       "      <th>leftover</th>\n",
       "      <th>shortage</th>\n",
       "      <th>lagleftover</th>\n",
       "      <th>lagshortage</th>\n",
       "      <th>lagdemand</th>\n",
       "      <th>gender</th>\n",
       "      <th>age</th>\n",
       "      <th>semester</th>\n",
       "      <th>related_course</th>\n",
       "      <th>program</th>\n",
       "      <th>treatment_id</th>\n",
       "      <th>included_treatment</th>\n",
       "      <th>study</th>\n",
       "      <th>experiment</th>\n",
       "      <th>playing_order</th>\n",
       "      <th>bundle</th>\n",
       "      <th>expediting_level</th>\n",
       "      <th>related_course_r</th>\n",
       "      <th>distance_opt</th>\n",
       "      <th>round_r</th>\n",
       "      <th>subject_id_r</th>\n",
       "      <th>exp_profit_norm</th>\n",
       "      <th>proportion_max_exp_profit</th>\n",
       "      <th>percent_deviation_opt</th>\n",
       "      <th>gender_r</th>\n",
       "    </tr>\n",
       "  </thead>\n",
       "  <tbody>\n",
       "    <tr>\n",
       "      <th>0</th>\n",
       "      <td>1</td>\n",
       "      <td>1</td>\n",
       "      <td>1</td>\n",
       "      <td>12</td>\n",
       "      <td>3.0</td>\n",
       "      <td>0.0</td>\n",
       "      <td>0</td>\n",
       "      <td>0</td>\n",
       "      <td>75.0</td>\n",
       "      <td>95</td>\n",
       "      <td>32</td>\n",
       "      <td>63</td>\n",
       "      <td>0</td>\n",
       "      <td>NaN</td>\n",
       "      <td>NaN</td>\n",
       "      <td>NaN</td>\n",
       "      <td>Female</td>\n",
       "      <td>2.0</td>\n",
       "      <td>7.0</td>\n",
       "      <td>Past semesters</td>\n",
       "      <td>Business</td>\n",
       "      <td>1</td>\n",
       "      <td>0</td>\n",
       "      <td>Base study</td>\n",
       "      <td>Main</td>\n",
       "      <td>NaN</td>\n",
       "      <td>NaN</td>\n",
       "      <td>NaN</td>\n",
       "      <td>Yes</td>\n",
       "      <td>20.0</td>\n",
       "      <td>1</td>\n",
       "      <td>0</td>\n",
       "      <td>0.0</td>\n",
       "      <td>0.0</td>\n",
       "      <td>0.266667</td>\n",
       "      <td>0</td>\n",
       "    </tr>\n",
       "    <tr>\n",
       "      <th>1</th>\n",
       "      <td>1</td>\n",
       "      <td>2</td>\n",
       "      <td>2</td>\n",
       "      <td>12</td>\n",
       "      <td>3.0</td>\n",
       "      <td>0.0</td>\n",
       "      <td>0</td>\n",
       "      <td>0</td>\n",
       "      <td>75.0</td>\n",
       "      <td>30</td>\n",
       "      <td>43</td>\n",
       "      <td>0</td>\n",
       "      <td>13</td>\n",
       "      <td>63.0</td>\n",
       "      <td>0.0</td>\n",
       "      <td>32.0</td>\n",
       "      <td>Female</td>\n",
       "      <td>2.0</td>\n",
       "      <td>7.0</td>\n",
       "      <td>Past semesters</td>\n",
       "      <td>Business</td>\n",
       "      <td>1</td>\n",
       "      <td>0</td>\n",
       "      <td>Base study</td>\n",
       "      <td>Main</td>\n",
       "      <td>NaN</td>\n",
       "      <td>NaN</td>\n",
       "      <td>NaN</td>\n",
       "      <td>Yes</td>\n",
       "      <td>45.0</td>\n",
       "      <td>2</td>\n",
       "      <td>0</td>\n",
       "      <td>0.0</td>\n",
       "      <td>0.0</td>\n",
       "      <td>0.600000</td>\n",
       "      <td>0</td>\n",
       "    </tr>\n",
       "    <tr>\n",
       "      <th>2</th>\n",
       "      <td>1</td>\n",
       "      <td>3</td>\n",
       "      <td>3</td>\n",
       "      <td>12</td>\n",
       "      <td>3.0</td>\n",
       "      <td>0.0</td>\n",
       "      <td>0</td>\n",
       "      <td>0</td>\n",
       "      <td>75.0</td>\n",
       "      <td>45</td>\n",
       "      <td>13</td>\n",
       "      <td>32</td>\n",
       "      <td>0</td>\n",
       "      <td>0.0</td>\n",
       "      <td>13.0</td>\n",
       "      <td>43.0</td>\n",
       "      <td>Female</td>\n",
       "      <td>2.0</td>\n",
       "      <td>7.0</td>\n",
       "      <td>Past semesters</td>\n",
       "      <td>Business</td>\n",
       "      <td>1</td>\n",
       "      <td>0</td>\n",
       "      <td>Base study</td>\n",
       "      <td>Main</td>\n",
       "      <td>NaN</td>\n",
       "      <td>NaN</td>\n",
       "      <td>NaN</td>\n",
       "      <td>Yes</td>\n",
       "      <td>30.0</td>\n",
       "      <td>3</td>\n",
       "      <td>0</td>\n",
       "      <td>0.0</td>\n",
       "      <td>0.0</td>\n",
       "      <td>0.400000</td>\n",
       "      <td>0</td>\n",
       "    </tr>\n",
       "    <tr>\n",
       "      <th>3</th>\n",
       "      <td>1</td>\n",
       "      <td>4</td>\n",
       "      <td>4</td>\n",
       "      <td>12</td>\n",
       "      <td>3.0</td>\n",
       "      <td>0.0</td>\n",
       "      <td>0</td>\n",
       "      <td>0</td>\n",
       "      <td>75.0</td>\n",
       "      <td>50</td>\n",
       "      <td>12</td>\n",
       "      <td>38</td>\n",
       "      <td>0</td>\n",
       "      <td>32.0</td>\n",
       "      <td>0.0</td>\n",
       "      <td>13.0</td>\n",
       "      <td>Female</td>\n",
       "      <td>2.0</td>\n",
       "      <td>7.0</td>\n",
       "      <td>Past semesters</td>\n",
       "      <td>Business</td>\n",
       "      <td>1</td>\n",
       "      <td>0</td>\n",
       "      <td>Base study</td>\n",
       "      <td>Main</td>\n",
       "      <td>NaN</td>\n",
       "      <td>NaN</td>\n",
       "      <td>NaN</td>\n",
       "      <td>Yes</td>\n",
       "      <td>25.0</td>\n",
       "      <td>4</td>\n",
       "      <td>0</td>\n",
       "      <td>0.0</td>\n",
       "      <td>0.0</td>\n",
       "      <td>0.333333</td>\n",
       "      <td>0</td>\n",
       "    </tr>\n",
       "    <tr>\n",
       "      <th>4</th>\n",
       "      <td>1</td>\n",
       "      <td>5</td>\n",
       "      <td>5</td>\n",
       "      <td>12</td>\n",
       "      <td>3.0</td>\n",
       "      <td>0.0</td>\n",
       "      <td>0</td>\n",
       "      <td>0</td>\n",
       "      <td>75.0</td>\n",
       "      <td>74</td>\n",
       "      <td>6</td>\n",
       "      <td>68</td>\n",
       "      <td>0</td>\n",
       "      <td>38.0</td>\n",
       "      <td>0.0</td>\n",
       "      <td>12.0</td>\n",
       "      <td>Female</td>\n",
       "      <td>2.0</td>\n",
       "      <td>7.0</td>\n",
       "      <td>Past semesters</td>\n",
       "      <td>Business</td>\n",
       "      <td>1</td>\n",
       "      <td>0</td>\n",
       "      <td>Base study</td>\n",
       "      <td>Main</td>\n",
       "      <td>NaN</td>\n",
       "      <td>NaN</td>\n",
       "      <td>NaN</td>\n",
       "      <td>Yes</td>\n",
       "      <td>1.0</td>\n",
       "      <td>5</td>\n",
       "      <td>0</td>\n",
       "      <td>0.0</td>\n",
       "      <td>0.0</td>\n",
       "      <td>0.013333</td>\n",
       "      <td>0</td>\n",
       "    </tr>\n",
       "  </tbody>\n",
       "</table>\n",
       "</div>"
      ],
      "text/plain": [
       "   subject_id  round  overall_round  price  cost  service_level  \\\n",
       "0           1      1              1     12   3.0            0.0   \n",
       "1           1      2              2     12   3.0            0.0   \n",
       "2           1      3              3     12   3.0            0.0   \n",
       "3           1      4              4     12   3.0            0.0   \n",
       "4           1      5              5     12   3.0            0.0   \n",
       "\n",
       "   expediting_cost  salvage_value  optimum  order  demand  leftover  shortage  \\\n",
       "0                0              0     75.0     95      32        63         0   \n",
       "1                0              0     75.0     30      43         0        13   \n",
       "2                0              0     75.0     45      13        32         0   \n",
       "3                0              0     75.0     50      12        38         0   \n",
       "4                0              0     75.0     74       6        68         0   \n",
       "\n",
       "   lagleftover  lagshortage  lagdemand  gender  age  semester  related_course  \\\n",
       "0          NaN          NaN        NaN  Female  2.0       7.0  Past semesters   \n",
       "1         63.0          0.0       32.0  Female  2.0       7.0  Past semesters   \n",
       "2          0.0         13.0       43.0  Female  2.0       7.0  Past semesters   \n",
       "3         32.0          0.0       13.0  Female  2.0       7.0  Past semesters   \n",
       "4         38.0          0.0       12.0  Female  2.0       7.0  Past semesters   \n",
       "\n",
       "    program  treatment_id  included_treatment       study experiment  \\\n",
       "0  Business             1                   0  Base study       Main   \n",
       "1  Business             1                   0  Base study       Main   \n",
       "2  Business             1                   0  Base study       Main   \n",
       "3  Business             1                   0  Base study       Main   \n",
       "4  Business             1                   0  Base study       Main   \n",
       "\n",
       "   playing_order bundle expediting_level related_course_r  distance_opt  \\\n",
       "0            NaN    NaN              NaN              Yes          20.0   \n",
       "1            NaN    NaN              NaN              Yes          45.0   \n",
       "2            NaN    NaN              NaN              Yes          30.0   \n",
       "3            NaN    NaN              NaN              Yes          25.0   \n",
       "4            NaN    NaN              NaN              Yes           1.0   \n",
       "\n",
       "   round_r  subject_id_r  exp_profit_norm  proportion_max_exp_profit  \\\n",
       "0        1             0              0.0                        0.0   \n",
       "1        2             0              0.0                        0.0   \n",
       "2        3             0              0.0                        0.0   \n",
       "3        4             0              0.0                        0.0   \n",
       "4        5             0              0.0                        0.0   \n",
       "\n",
       "   percent_deviation_opt  gender_r  \n",
       "0               0.266667         0  \n",
       "1               0.600000         0  \n",
       "2               0.400000         0  \n",
       "3               0.333333         0  \n",
       "4               0.013333         0  "
      ]
     },
     "execution_count": 3,
     "metadata": {},
     "output_type": "execute_result"
    }
   ],
   "source": [
    "# We create the feature 'expediting_level' to capture the three main expediting levels: profitable, breakeven\n",
    "# and unprofitable\n",
    "expeditingDict = {4: \"Profitable\",\n",
    "                   6: \"Profitable\",\n",
    "                   12: \"Breakeven\",\n",
    "                   18: \"Unprofitable\",\n",
    "                   30: \"Unprofitable\"}\n",
    "rawData[\"expediting_level\"] = rawData[\"expediting_cost\"].map(expeditingDict)\n",
    "\n",
    "# We revise the feature 'related_course' to simply capture whether a subject has operations management experience\n",
    "# (current or previous) or not\n",
    "relatedCourseDict = {\"Past semesters\": \"Yes\",\n",
    "                       \"Currently attending\": \"Yes\",\n",
    "                       \"No\": \"No\"\n",
    "}\n",
    "rawData[\"related_course_r\"] = rawData[\"related_course\"].map(relatedCourseDict)\n",
    "\n",
    "# We compute an additional performance metric: an order quantity's absolute distance to the optimal order quantity.\n",
    "# Our main performance metric are participants' order quantity decisions, which are captured in the feature 'order'\n",
    "rawData[\"distance_opt\"] = abs(rawData[\"order\"] - rawData[\"optimum\"])\n",
    "\n",
    "# We create a copy of the feature 'round' to be able to use it as independent variable in RE models\n",
    "rawData[\"round_r\"] = rawData[\"round\"]\n",
    "\n",
    "# A subject in the Salience Experiment played three treatments and these treatments have the same subject id.\n",
    "# We create different subject ids for these treatments. The code below does the same for the subjects in the\n",
    "# Contract Experiment. However, the paper revision doesn't include any analysis with the Contract Experiment\n",
    "    # https://datascience.stackexchange.com/questions/89245/pandas-create-a-integer-primary-key-based-in-string-columns-python\n",
    "rawData[\"temp\"] = rawData[\"subject_id\"].astype(str) + rawData[\"experiment\"].astype(str) + \\\n",
    "    rawData[\"treatment_id\"].astype(str)\n",
    "rawData[\"subject_id_r\"] = pd.factorize(rawData[\"temp\"])[0]\n",
    "rawData.drop(\"temp\", axis = 1, inplace = True)\n",
    "\n",
    "# We assign the normalized expected profit to each order quantity and compute an additional performance metric:\n",
    "# an order quantity's proportion of maximum expected profit achieved\n",
    "    # https://kanoki.org/2022/02/11/how-to-return-multiple-columns-using-pandas-apply/\n",
    "rawData = h_f.assign_exp_profit(rawData)\n",
    "\n",
    "# We compute an additional performance metric: an order quantity's percent deviation from the optimal order quantity\n",
    "rawData[\"percent_deviation_opt\"] = abs(rawData[\"order\"] - rawData[\"optimum\"])/rawData[\"optimum\"]\n",
    "\n",
    "# An unreported cleaning process allowed us to identify a participant from the Main Experiment who reported gender as\n",
    "# 'Other'. We revise the feature 'gender' to capture this participant as different from 'Male', which allows us to\n",
    "# include the participant in the RE models. The RE models without this participant deliver virtually the same results\n",
    "rawData[\"gender_r\"] = np.where(rawData[\"gender\"] == \"Male\", 1, 0)\n",
    "\n",
    "# We save the revised dataset to use it later in Stata\n",
    "rawData.to_csv(\"raw_data_r1_Stata.csv\")\n",
    "\n",
    "rawData.head()"
   ]
  },
  {
   "attachments": {},
   "cell_type": "markdown",
   "metadata": {},
   "source": [
    "### Notes\n",
    "\n",
    "- The dataset contains data from 21 treatments. We work with data from the 12 treatments that are part of the Main and Salience experiments.\n",
    "- We implemented the **Salience Experiment** using a within-subjects design so that each participant played three salience treatments. We perform several robustness checks to rule out effects related to this design choice."
   ]
  },
  {
   "attachments": {},
   "cell_type": "markdown",
   "metadata": {},
   "source": [
    "## 1. Main Experiment"
   ]
  },
  {
   "attachments": {},
   "cell_type": "markdown",
   "metadata": {},
   "source": [
    "### 1.1. Model-free results\n",
    "\n",
    "We plot the main results from the **Main Experiment** using boxplots. The boxplots represent participants’ average orders\n",
    "during the experiment, the gray cross marks indicate the optimal orders for each treatment and the horizontal black dashed line represents the mean demand.\n",
    "\n",
    "Some sources we followed to construct the plot were:\n",
    "- [Boxplot demo](https://matplotlib.org/stable/gallery/statistics/boxplot_demo.html)\n",
    "- [Control colors in a Seaborn boxplot](https://www.python-graph-gallery.com/33-control-colors-of-boxplot-seaborn)\n",
    "- [Seaborn scatter plots in Python: Complete guide]( https://datagy.io/python-seaborn-scatterplot/)"
   ]
  },
  {
   "cell_type": "code",
   "execution_count": 4,
   "metadata": {},
   "outputs": [],
   "source": [
    "# We take data from the Main and Salience experiments\n",
    "main_salience = rawData[((rawData[\"experiment\"] == \"Main\") & (rawData[\"included_treatment\"] == 1)) \\\n",
    "    | (rawData[\"experiment\"] == \"Salience\")].copy()\n",
    "\n",
    "# We compute participants' average orders from the Main treatments\n",
    "mainOrders = main_salience[main_salience[\"experiment\"] == \"Main\"].\\\n",
    "    groupby([\"expediting_cost\", \"subject_id\"])[\"order\"].mean().reset_index()\n",
    "mainOrders.drop(\"subject_id\", axis = 1, inplace = True)\n",
    "\n",
    "# We change the column type of the feature 'expediting_cost' to allow having different plots together in the same\n",
    "# plot area\n",
    "mainOrders[\"expediting_cost\"] = mainOrders[\"expediting_cost\"].astype(\"str\")\n",
    "\n",
    "# We create a DataFrame for adding optimal orders on the boxplots\n",
    "optimalOrders = [[\"4\", 25], [\"6\", 50], [\"12\", 75], [\"18\", 83.33], [\"30\", 90]]\n",
    "optimalOrdersDF = pd.DataFrame(optimalOrders, columns=[\"ec\", \"opt\"])"
   ]
  },
  {
   "cell_type": "code",
   "execution_count": 5,
   "metadata": {},
   "outputs": [
    {
     "data": {
      "image/png": "[encoded data removed]",
      "text/plain": [
       "<Figure size 800x600 with 1 Axes>"
      ]
     },
     "metadata": {},
     "output_type": "display_data"
    }
   ],
   "source": [
    "# We create the boxplot\n",
    "fig, ax = plt.subplots(figsize = (8, 6))\n",
    "sns.boxplot(x = \"expediting_cost\", y = \"order\", data = mainOrders, palette = \"Greys\", ax = ax)\n",
    "\n",
    "# We add the optimal orders\n",
    "sns.scatterplot(x = \"ec\", y = \"opt\", data = optimalOrdersDF, s = 75, color = \"#848482\", marker = \"X\", ax = ax)\n",
    "sns.lineplot(x = \"ec\", y = \"opt\", data = optimalOrdersDF, linewidth = 0.5, color = \"#848482\", ax = ax)\n",
    "\n",
    "# We add the mean demand\n",
    "plt.axhline(y = 50, color = \"#3B444B\", ls = \"--\")\n",
    "\n",
    "# We add axis labels\n",
    "plt.xlabel(\"Expediting cost\", fontsize = 12)\n",
    "plt.ylabel(\"Orders\", fontsize = 12)\n",
    "plt.title(\"Ordering behavior\", fontsize = 16)\n",
    "\n",
    "# We add legends\n",
    "fig.text(0.7, 0.25, \"x Optimum\", color = \"#848482\", size = 12)\n",
    "fig.text(0.7, 0.2, \"-- Mean demand\", color = \"#3B444B\", size = 12)\n",
    "\n",
    "plt.show()"
   ]
  },
  {
   "attachments": {},
   "cell_type": "markdown",
   "metadata": {},
   "source": [
    "### 1.2. Expediting cost\n",
    "\n",
    "Using data from the **Main Experiment**, we estimate the effect of expediting costs on ordering decisions using a RE model. The model has the following form:\n",
    "\n",
    "$Q_{i,t} = \\beta_0 + \\beta_1 ExpeditingCost_i + \\gamma X_{i,t} + u_i + \\epsilon_{i,t}$,\n",
    "\n",
    "where $i$ is an index for participants and $t$ is an index for rounds. $Q_{i,t}$ indicates the ordering decision\n",
    "made by participant $i$ in round $t$ and $ExpeditingCost_i$ captures the specific expediting cost faced\n",
    "by participant $i$. $u_i$ are the RE intercepts and $\\epsilon_{i,t}$ is the error term. $\\gamma X_{i,t}$ represents the control variables and their coefficients.\n",
    "\n",
    "Some sources we followed to learn RE model implementation in Python were:\n",
    "\n",
    "- [linearmodels examples](https://bashtage.github.io/linearmodels/panel/examples/examples.html)\n",
    "- [Using fixed and random effects models for panel data in Python](https://medium.com/pew-research-center-decoded/using-fixed-and-random-effects-models-for-panel-data-in-python-a795865736ab)\n",
    "- [The random effects regression model for panel data sets](https://timeseriesreasoning.com/contents/the-random-effects-regression-model-for-panel-data-sets/)"
   ]
  },
  {
   "cell_type": "code",
   "execution_count": 6,
   "metadata": {},
   "outputs": [
    {
     "name": "stderr",
     "output_type": "stream",
     "text": [
      "/mnt/c/Users/USER/DS_Projects/Paper_expediting/expedited_shipping/.conda/lib/python3.10/site-packages/linearmodels/panel/model.py:2574: MissingValueWarning: \n",
      "Inputs contain missing values. Dropping rows with missing observations.\n",
      "  super().__init__(dependent, exog, weights=weights, check_rank=check_rank)\n"
     ]
    },
    {
     "name": "stdout",
     "output_type": "stream",
     "text": [
      "                        RandomEffects Estimation Summary                        \n",
      "================================================================================\n",
      "Dep. Variable:                  order   R-squared:                        0.4845\n",
      "Estimator:              RandomEffects   R-squared (Between):              0.8825\n",
      "No. Observations:                4669   R-squared (Within):              -0.0663\n",
      "Date:                Tue, Jun 13 2023   R-squared (Overall):              0.4845\n",
      "Time:                        15:47:16   Log-likelihood                -1.959e+04\n",
      "Cov. Estimator:            Unadjusted                                           \n",
      "                                        F-statistic:                      486.52\n",
      "Entities:                         161   P-value                           0.0000\n",
      "Avg Obs:                       29.000   Distribution:                  F(9,4659)\n",
      "Min Obs:                       29.000                                           \n",
      "Max Obs:                       29.000   F-statistic (robust):             486.52\n",
      "                                        P-value                           0.0000\n",
      "Time periods:                      29   Distribution:                  F(9,4659)\n",
      "Avg Obs:                       161.00                                           \n",
      "Min Obs:                       161.00                                           \n",
      "Max Obs:                       161.00                                           \n",
      "                                                                                \n",
      "                                  Parameter Estimates                                   \n",
      "========================================================================================\n",
      "                      Parameter  Std. Err.     T-stat    P-value    Lower CI    Upper CI\n",
      "----------------------------------------------------------------------------------------\n",
      "const                    11.855     1.2634     9.3834     0.0000      9.3780      14.332\n",
      "expediting_cost          0.5199     0.0287     18.142     0.0000      0.4637      0.5761\n",
      "lagdemand                0.6397     0.0146     43.871     0.0000      0.6111      0.6682\n",
      "lagshortage             -0.5779     0.0169    -34.238     0.0000     -0.6110     -0.5448\n",
      "lagleftover              0.5200     0.0163     31.843     0.0000      0.4880      0.5520\n",
      "round_r                 -0.0090     0.0282    -0.3199     0.7491     -0.0643      0.0463\n",
      "gender_r                 1.5416     0.4830     3.1917     0.0014      0.5947      2.4885\n",
      "age                     -0.4861     0.1391    -3.4956     0.0005     -0.7587     -0.2135\n",
      "semester                 0.3773     0.1208     3.1225     0.0018      0.1404      0.6142\n",
      "related_course_r.Yes     1.3462     0.4919     2.7365     0.0062      0.3818      2.3107\n",
      "========================================================================================\n"
     ]
    }
   ],
   "source": [
    "# We take the independent variables\n",
    "independentVariables = [\"expediting_cost\", \"lagdemand\", \"lagshortage\", \"lagleftover\", \"round_r\", \"gender_r\", \\\n",
    "    \"age\", \"semester\", \"related_course_r\"]\n",
    "\n",
    "# We take the data from the Main Experiment\n",
    "rawDataMain = rawData[(rawData[\"experiment\"] == \"Main\") & (rawData[\"included_treatment\"] == 1)].copy()\n",
    "\n",
    "# We set the indexes to run the RE model\n",
    "rawDataMain = rawDataMain.set_index([\"subject_id_r\", \"round\"])\n",
    "\n",
    "# We add the constant to the list of independent variables\n",
    "independentVariables_r = sm.tools.tools.add_constant(rawDataMain[independentVariables])\n",
    "\n",
    "# We fit the RE model\n",
    "model = RandomEffects(rawDataMain[\"order\"], independentVariables_r).fit()\n",
    "print(model)"
   ]
  },
  {
   "attachments": {},
   "cell_type": "markdown",
   "metadata": {},
   "source": [
    "We can replicate the analysis above using a *formula* approach. We'll use this approach in the remainder of this notebook.\n",
    "\n",
    "```\n",
    "independentVariables = \"expediting_cost + lagdemand + lagshortage + lagleftover + round_r + gender_r + age + \\\n",
    "    semester + related_course_r\"\n",
    "model = RandomEffects.from_formula(\"order ~ 1 + \" + independentVariables, rawDataMain).fit()\n",
    "print(model)\n",
    "```"
   ]
  },
  {
   "attachments": {},
   "cell_type": "markdown",
   "metadata": {},
   "source": [
    "### 1.3. Pull-to-center\n",
    "\n",
    "Using data from the **Main Experiment**, we compare participants' average orders with both the treatment's optimal order and the mean demand."
   ]
  },
  {
   "attachments": {},
   "cell_type": "markdown",
   "metadata": {},
   "source": [
    "#### $k = 4$"
   ]
  },
  {
   "cell_type": "code",
   "execution_count": 7,
   "metadata": {},
   "outputs": [
    {
     "data": {
      "text/html": [
       "<div>\n",
       "<style scoped>\n",
       "    .dataframe tbody tr th:only-of-type {\n",
       "        vertical-align: middle;\n",
       "    }\n",
       "\n",
       "    .dataframe tbody tr th {\n",
       "        vertical-align: top;\n",
       "    }\n",
       "\n",
       "    .dataframe thead th {\n",
       "        text-align: right;\n",
       "    }\n",
       "</style>\n",
       "<table border=\"1\" class=\"dataframe\">\n",
       "  <thead>\n",
       "    <tr style=\"text-align: right;\">\n",
       "      <th></th>\n",
       "      <th>T</th>\n",
       "      <th>dof</th>\n",
       "      <th>alternative</th>\n",
       "      <th>p-val</th>\n",
       "      <th>CI95%</th>\n",
       "      <th>cohen-d</th>\n",
       "      <th>BF10</th>\n",
       "      <th>power</th>\n",
       "    </tr>\n",
       "  </thead>\n",
       "  <tbody>\n",
       "    <tr>\n",
       "      <th>T-test</th>\n",
       "      <td>7.044022</td>\n",
       "      <td>33</td>\n",
       "      <td>two-sided</td>\n",
       "      <td>4.633660e-08</td>\n",
       "      <td>[36.5, 45.84]</td>\n",
       "      <td>1.20804</td>\n",
       "      <td>3.066e+05</td>\n",
       "      <td>0.999999</td>\n",
       "    </tr>\n",
       "  </tbody>\n",
       "</table>\n",
       "</div>"
      ],
      "text/plain": [
       "               T  dof alternative         p-val          CI95%  cohen-d  \\\n",
       "T-test  7.044022   33   two-sided  4.633660e-08  [36.5, 45.84]  1.20804   \n",
       "\n",
       "             BF10     power  \n",
       "T-test  3.066e+05  0.999999  "
      ]
     },
     "execution_count": 7,
     "metadata": {},
     "output_type": "execute_result"
    }
   ],
   "source": [
    "# We take participants' average orders from the Main treatments\n",
    "mainData = main_salience[main_salience[\"experiment\"] == \"Main\"].\\\n",
    "    groupby([\"treatment_id\", \"subject_id\"])[\"order\"].mean().reset_index()\n",
    "\n",
    "# We take the treatment's optimal order\n",
    "optimum = rawData[rawData[\"treatment_id\"] == 8][\"optimum\"].iloc[0]\n",
    "\n",
    "# We take the treatment data from the Main Experiment\n",
    "sampleMain = mainData[mainData[\"treatment_id\"] == 8][\"order\"]\n",
    "\n",
    "# We compute the t-test comparing the treatment's average ordering behavior with the treatment's optimal order\n",
    "pingouin.ttest(sampleMain, optimum)"
   ]
  },
  {
   "cell_type": "code",
   "execution_count": 8,
   "metadata": {},
   "outputs": [
    {
     "data": {
      "text/html": [
       "<div>\n",
       "<style scoped>\n",
       "    .dataframe tbody tr th:only-of-type {\n",
       "        vertical-align: middle;\n",
       "    }\n",
       "\n",
       "    .dataframe tbody tr th {\n",
       "        vertical-align: top;\n",
       "    }\n",
       "\n",
       "    .dataframe thead th {\n",
       "        text-align: right;\n",
       "    }\n",
       "</style>\n",
       "<table border=\"1\" class=\"dataframe\">\n",
       "  <thead>\n",
       "    <tr style=\"text-align: right;\">\n",
       "      <th></th>\n",
       "      <th>T</th>\n",
       "      <th>dof</th>\n",
       "      <th>alternative</th>\n",
       "      <th>p-val</th>\n",
       "      <th>CI95%</th>\n",
       "      <th>cohen-d</th>\n",
       "      <th>BF10</th>\n",
       "      <th>power</th>\n",
       "    </tr>\n",
       "  </thead>\n",
       "  <tbody>\n",
       "    <tr>\n",
       "      <th>T-test</th>\n",
       "      <td>-3.846154</td>\n",
       "      <td>33</td>\n",
       "      <td>two-sided</td>\n",
       "      <td>0.00052</td>\n",
       "      <td>[36.5, 45.84]</td>\n",
       "      <td>0.65961</td>\n",
       "      <td>57.324</td>\n",
       "      <td>0.961805</td>\n",
       "    </tr>\n",
       "  </tbody>\n",
       "</table>\n",
       "</div>"
      ],
      "text/plain": [
       "               T  dof alternative    p-val          CI95%  cohen-d    BF10  \\\n",
       "T-test -3.846154   33   two-sided  0.00052  [36.5, 45.84]  0.65961  57.324   \n",
       "\n",
       "           power  \n",
       "T-test  0.961805  "
      ]
     },
     "execution_count": 8,
     "metadata": {},
     "output_type": "execute_result"
    }
   ],
   "source": [
    "# We compute the t-test comparing the treatment's average ordering behavior with the mean demand\n",
    "pingouin.ttest(sampleMain, 50)"
   ]
  },
  {
   "attachments": {},
   "cell_type": "markdown",
   "metadata": {},
   "source": [
    "#### $k = 6$"
   ]
  },
  {
   "cell_type": "code",
   "execution_count": 9,
   "metadata": {},
   "outputs": [
    {
     "data": {
      "text/html": [
       "<div>\n",
       "<style scoped>\n",
       "    .dataframe tbody tr th:only-of-type {\n",
       "        vertical-align: middle;\n",
       "    }\n",
       "\n",
       "    .dataframe tbody tr th {\n",
       "        vertical-align: top;\n",
       "    }\n",
       "\n",
       "    .dataframe thead th {\n",
       "        text-align: right;\n",
       "    }\n",
       "</style>\n",
       "<table border=\"1\" class=\"dataframe\">\n",
       "  <thead>\n",
       "    <tr style=\"text-align: right;\">\n",
       "      <th></th>\n",
       "      <th>T</th>\n",
       "      <th>dof</th>\n",
       "      <th>alternative</th>\n",
       "      <th>p-val</th>\n",
       "      <th>CI95%</th>\n",
       "      <th>cohen-d</th>\n",
       "      <th>BF10</th>\n",
       "      <th>power</th>\n",
       "    </tr>\n",
       "  </thead>\n",
       "  <tbody>\n",
       "    <tr>\n",
       "      <th>T-test</th>\n",
       "      <td>-1.454265</td>\n",
       "      <td>31</td>\n",
       "      <td>two-sided</td>\n",
       "      <td>0.155924</td>\n",
       "      <td>[39.51, 51.76]</td>\n",
       "      <td>0.25708</td>\n",
       "      <td>0.49</td>\n",
       "      <td>0.291328</td>\n",
       "    </tr>\n",
       "  </tbody>\n",
       "</table>\n",
       "</div>"
      ],
      "text/plain": [
       "               T  dof alternative     p-val           CI95%  cohen-d  BF10  \\\n",
       "T-test -1.454265   31   two-sided  0.155924  [39.51, 51.76]  0.25708  0.49   \n",
       "\n",
       "           power  \n",
       "T-test  0.291328  "
      ]
     },
     "execution_count": 9,
     "metadata": {},
     "output_type": "execute_result"
    }
   ],
   "source": [
    "optimum = rawData[rawData[\"treatment_id\"] == 3][\"optimum\"].iloc[0]\n",
    "sampleMain = mainData[mainData[\"treatment_id\"] == 3][\"order\"]\n",
    "pingouin.ttest(sampleMain, optimum)"
   ]
  },
  {
   "cell_type": "code",
   "execution_count": 10,
   "metadata": {},
   "outputs": [
    {
     "data": {
      "text/html": [
       "<div>\n",
       "<style scoped>\n",
       "    .dataframe tbody tr th:only-of-type {\n",
       "        vertical-align: middle;\n",
       "    }\n",
       "\n",
       "    .dataframe tbody tr th {\n",
       "        vertical-align: top;\n",
       "    }\n",
       "\n",
       "    .dataframe thead th {\n",
       "        text-align: right;\n",
       "    }\n",
       "</style>\n",
       "<table border=\"1\" class=\"dataframe\">\n",
       "  <thead>\n",
       "    <tr style=\"text-align: right;\">\n",
       "      <th></th>\n",
       "      <th>T</th>\n",
       "      <th>dof</th>\n",
       "      <th>alternative</th>\n",
       "      <th>p-val</th>\n",
       "      <th>CI95%</th>\n",
       "      <th>cohen-d</th>\n",
       "      <th>BF10</th>\n",
       "      <th>power</th>\n",
       "    </tr>\n",
       "  </thead>\n",
       "  <tbody>\n",
       "    <tr>\n",
       "      <th>T-test</th>\n",
       "      <td>-1.454265</td>\n",
       "      <td>31</td>\n",
       "      <td>two-sided</td>\n",
       "      <td>0.155924</td>\n",
       "      <td>[39.51, 51.76]</td>\n",
       "      <td>0.25708</td>\n",
       "      <td>0.49</td>\n",
       "      <td>0.291328</td>\n",
       "    </tr>\n",
       "  </tbody>\n",
       "</table>\n",
       "</div>"
      ],
      "text/plain": [
       "               T  dof alternative     p-val           CI95%  cohen-d  BF10  \\\n",
       "T-test -1.454265   31   two-sided  0.155924  [39.51, 51.76]  0.25708  0.49   \n",
       "\n",
       "           power  \n",
       "T-test  0.291328  "
      ]
     },
     "execution_count": 10,
     "metadata": {},
     "output_type": "execute_result"
    }
   ],
   "source": [
    "pingouin.ttest(sampleMain, 50)"
   ]
  },
  {
   "attachments": {},
   "cell_type": "markdown",
   "metadata": {},
   "source": [
    "#### $k = 12$"
   ]
  },
  {
   "cell_type": "code",
   "execution_count": 11,
   "metadata": {},
   "outputs": [
    {
     "data": {
      "text/html": [
       "<div>\n",
       "<style scoped>\n",
       "    .dataframe tbody tr th:only-of-type {\n",
       "        vertical-align: middle;\n",
       "    }\n",
       "\n",
       "    .dataframe tbody tr th {\n",
       "        vertical-align: top;\n",
       "    }\n",
       "\n",
       "    .dataframe thead th {\n",
       "        text-align: right;\n",
       "    }\n",
       "</style>\n",
       "<table border=\"1\" class=\"dataframe\">\n",
       "  <thead>\n",
       "    <tr style=\"text-align: right;\">\n",
       "      <th></th>\n",
       "      <th>T</th>\n",
       "      <th>dof</th>\n",
       "      <th>alternative</th>\n",
       "      <th>p-val</th>\n",
       "      <th>CI95%</th>\n",
       "      <th>cohen-d</th>\n",
       "      <th>BF10</th>\n",
       "      <th>power</th>\n",
       "    </tr>\n",
       "  </thead>\n",
       "  <tbody>\n",
       "    <tr>\n",
       "      <th>T-test</th>\n",
       "      <td>-11.830934</td>\n",
       "      <td>31</td>\n",
       "      <td>two-sided</td>\n",
       "      <td>5.001930e-13</td>\n",
       "      <td>[44.97, 53.8]</td>\n",
       "      <td>2.091433</td>\n",
       "      <td>1.561e+10</td>\n",
       "      <td>1.0</td>\n",
       "    </tr>\n",
       "  </tbody>\n",
       "</table>\n",
       "</div>"
      ],
      "text/plain": [
       "                T  dof alternative         p-val          CI95%   cohen-d  \\\n",
       "T-test -11.830934   31   two-sided  5.001930e-13  [44.97, 53.8]  2.091433   \n",
       "\n",
       "             BF10  power  \n",
       "T-test  1.561e+10    1.0  "
      ]
     },
     "execution_count": 11,
     "metadata": {},
     "output_type": "execute_result"
    }
   ],
   "source": [
    "optimum = rawData[rawData[\"treatment_id\"] == 4][\"optimum\"].iloc[0]\n",
    "sampleMain = mainData[mainData[\"treatment_id\"] == 4][\"order\"]\n",
    "pingouin.ttest(sampleMain, optimum)"
   ]
  },
  {
   "cell_type": "code",
   "execution_count": 12,
   "metadata": {},
   "outputs": [
    {
     "data": {
      "text/html": [
       "<div>\n",
       "<style scoped>\n",
       "    .dataframe tbody tr th:only-of-type {\n",
       "        vertical-align: middle;\n",
       "    }\n",
       "\n",
       "    .dataframe tbody tr th {\n",
       "        vertical-align: top;\n",
       "    }\n",
       "\n",
       "    .dataframe thead th {\n",
       "        text-align: right;\n",
       "    }\n",
       "</style>\n",
       "<table border=\"1\" class=\"dataframe\">\n",
       "  <thead>\n",
       "    <tr style=\"text-align: right;\">\n",
       "      <th></th>\n",
       "      <th>T</th>\n",
       "      <th>dof</th>\n",
       "      <th>alternative</th>\n",
       "      <th>p-val</th>\n",
       "      <th>CI95%</th>\n",
       "      <th>cohen-d</th>\n",
       "      <th>BF10</th>\n",
       "      <th>power</th>\n",
       "    </tr>\n",
       "  </thead>\n",
       "  <tbody>\n",
       "    <tr>\n",
       "      <th>T-test</th>\n",
       "      <td>-0.282457</td>\n",
       "      <td>31</td>\n",
       "      <td>two-sided</td>\n",
       "      <td>0.779471</td>\n",
       "      <td>[44.97, 53.8]</td>\n",
       "      <td>0.049932</td>\n",
       "      <td>0.196</td>\n",
       "      <td>0.058632</td>\n",
       "    </tr>\n",
       "  </tbody>\n",
       "</table>\n",
       "</div>"
      ],
      "text/plain": [
       "               T  dof alternative     p-val          CI95%   cohen-d   BF10  \\\n",
       "T-test -0.282457   31   two-sided  0.779471  [44.97, 53.8]  0.049932  0.196   \n",
       "\n",
       "           power  \n",
       "T-test  0.058632  "
      ]
     },
     "execution_count": 12,
     "metadata": {},
     "output_type": "execute_result"
    }
   ],
   "source": [
    "pingouin.ttest(sampleMain, 50)"
   ]
  },
  {
   "attachments": {},
   "cell_type": "markdown",
   "metadata": {},
   "source": [
    "#### $k = 18$"
   ]
  },
  {
   "cell_type": "code",
   "execution_count": 13,
   "metadata": {},
   "outputs": [
    {
     "data": {
      "text/html": [
       "<div>\n",
       "<style scoped>\n",
       "    .dataframe tbody tr th:only-of-type {\n",
       "        vertical-align: middle;\n",
       "    }\n",
       "\n",
       "    .dataframe tbody tr th {\n",
       "        vertical-align: top;\n",
       "    }\n",
       "\n",
       "    .dataframe thead th {\n",
       "        text-align: right;\n",
       "    }\n",
       "</style>\n",
       "<table border=\"1\" class=\"dataframe\">\n",
       "  <thead>\n",
       "    <tr style=\"text-align: right;\">\n",
       "      <th></th>\n",
       "      <th>T</th>\n",
       "      <th>dof</th>\n",
       "      <th>alternative</th>\n",
       "      <th>p-val</th>\n",
       "      <th>CI95%</th>\n",
       "      <th>cohen-d</th>\n",
       "      <th>BF10</th>\n",
       "      <th>power</th>\n",
       "    </tr>\n",
       "  </thead>\n",
       "  <tbody>\n",
       "    <tr>\n",
       "      <th>T-test</th>\n",
       "      <td>-9.551489</td>\n",
       "      <td>31</td>\n",
       "      <td>two-sided</td>\n",
       "      <td>9.477779e-11</td>\n",
       "      <td>[62.97, 70.13]</td>\n",
       "      <td>1.688481</td>\n",
       "      <td>1.06e+08</td>\n",
       "      <td>1.0</td>\n",
       "    </tr>\n",
       "  </tbody>\n",
       "</table>\n",
       "</div>"
      ],
      "text/plain": [
       "               T  dof alternative         p-val           CI95%   cohen-d  \\\n",
       "T-test -9.551489   31   two-sided  9.477779e-11  [62.97, 70.13]  1.688481   \n",
       "\n",
       "            BF10  power  \n",
       "T-test  1.06e+08    1.0  "
      ]
     },
     "execution_count": 13,
     "metadata": {},
     "output_type": "execute_result"
    }
   ],
   "source": [
    "optimum = rawData[rawData[\"treatment_id\"] == 5][\"optimum\"].iloc[0]\n",
    "sampleMain = mainData[mainData[\"treatment_id\"] == 5][\"order\"]\n",
    "pingouin.ttest(sampleMain, optimum)"
   ]
  },
  {
   "cell_type": "code",
   "execution_count": 14,
   "metadata": {},
   "outputs": [
    {
     "data": {
      "text/html": [
       "<div>\n",
       "<style scoped>\n",
       "    .dataframe tbody tr th:only-of-type {\n",
       "        vertical-align: middle;\n",
       "    }\n",
       "\n",
       "    .dataframe tbody tr th {\n",
       "        vertical-align: top;\n",
       "    }\n",
       "\n",
       "    .dataframe thead th {\n",
       "        text-align: right;\n",
       "    }\n",
       "</style>\n",
       "<table border=\"1\" class=\"dataframe\">\n",
       "  <thead>\n",
       "    <tr style=\"text-align: right;\">\n",
       "      <th></th>\n",
       "      <th>T</th>\n",
       "      <th>dof</th>\n",
       "      <th>alternative</th>\n",
       "      <th>p-val</th>\n",
       "      <th>CI95%</th>\n",
       "      <th>cohen-d</th>\n",
       "      <th>BF10</th>\n",
       "      <th>power</th>\n",
       "    </tr>\n",
       "  </thead>\n",
       "  <tbody>\n",
       "    <tr>\n",
       "      <th>T-test</th>\n",
       "      <td>9.419391</td>\n",
       "      <td>31</td>\n",
       "      <td>two-sided</td>\n",
       "      <td>1.310940e-10</td>\n",
       "      <td>[62.97, 70.13]</td>\n",
       "      <td>1.665129</td>\n",
       "      <td>7.79e+07</td>\n",
       "      <td>1.0</td>\n",
       "    </tr>\n",
       "  </tbody>\n",
       "</table>\n",
       "</div>"
      ],
      "text/plain": [
       "               T  dof alternative         p-val           CI95%   cohen-d  \\\n",
       "T-test  9.419391   31   two-sided  1.310940e-10  [62.97, 70.13]  1.665129   \n",
       "\n",
       "            BF10  power  \n",
       "T-test  7.79e+07    1.0  "
      ]
     },
     "execution_count": 14,
     "metadata": {},
     "output_type": "execute_result"
    }
   ],
   "source": [
    "pingouin.ttest(sampleMain, 50)"
   ]
  },
  {
   "attachments": {},
   "cell_type": "markdown",
   "metadata": {},
   "source": [
    "#### $k = 30$"
   ]
  },
  {
   "cell_type": "code",
   "execution_count": 15,
   "metadata": {},
   "outputs": [
    {
     "data": {
      "text/html": [
       "<div>\n",
       "<style scoped>\n",
       "    .dataframe tbody tr th:only-of-type {\n",
       "        vertical-align: middle;\n",
       "    }\n",
       "\n",
       "    .dataframe tbody tr th {\n",
       "        vertical-align: top;\n",
       "    }\n",
       "\n",
       "    .dataframe thead th {\n",
       "        text-align: right;\n",
       "    }\n",
       "</style>\n",
       "<table border=\"1\" class=\"dataframe\">\n",
       "  <thead>\n",
       "    <tr style=\"text-align: right;\">\n",
       "      <th></th>\n",
       "      <th>T</th>\n",
       "      <th>dof</th>\n",
       "      <th>alternative</th>\n",
       "      <th>p-val</th>\n",
       "      <th>CI95%</th>\n",
       "      <th>cohen-d</th>\n",
       "      <th>BF10</th>\n",
       "      <th>power</th>\n",
       "    </tr>\n",
       "  </thead>\n",
       "  <tbody>\n",
       "    <tr>\n",
       "      <th>T-test</th>\n",
       "      <td>-11.716997</td>\n",
       "      <td>30</td>\n",
       "      <td>two-sided</td>\n",
       "      <td>1.010656e-12</td>\n",
       "      <td>[65.05, 72.45]</td>\n",
       "      <td>2.104435</td>\n",
       "      <td>7.934e+09</td>\n",
       "      <td>1.0</td>\n",
       "    </tr>\n",
       "  </tbody>\n",
       "</table>\n",
       "</div>"
      ],
      "text/plain": [
       "                T  dof alternative         p-val           CI95%   cohen-d  \\\n",
       "T-test -11.716997   30   two-sided  1.010656e-12  [65.05, 72.45]  2.104435   \n",
       "\n",
       "             BF10  power  \n",
       "T-test  7.934e+09    1.0  "
      ]
     },
     "execution_count": 15,
     "metadata": {},
     "output_type": "execute_result"
    }
   ],
   "source": [
    "optimum = rawData[rawData[\"treatment_id\"] == 9][\"optimum\"].iloc[0]\n",
    "sampleMain = mainData[mainData[\"treatment_id\"] == 9][\"order\"]\n",
    "pingouin.ttest(sampleMain, optimum)"
   ]
  },
  {
   "cell_type": "code",
   "execution_count": 16,
   "metadata": {},
   "outputs": [
    {
     "data": {
      "text/html": [
       "<div>\n",
       "<style scoped>\n",
       "    .dataframe tbody tr th:only-of-type {\n",
       "        vertical-align: middle;\n",
       "    }\n",
       "\n",
       "    .dataframe tbody tr th {\n",
       "        vertical-align: top;\n",
       "    }\n",
       "\n",
       "    .dataframe thead th {\n",
       "        text-align: right;\n",
       "    }\n",
       "</style>\n",
       "<table border=\"1\" class=\"dataframe\">\n",
       "  <thead>\n",
       "    <tr style=\"text-align: right;\">\n",
       "      <th></th>\n",
       "      <th>T</th>\n",
       "      <th>dof</th>\n",
       "      <th>alternative</th>\n",
       "      <th>p-val</th>\n",
       "      <th>CI95%</th>\n",
       "      <th>cohen-d</th>\n",
       "      <th>BF10</th>\n",
       "      <th>power</th>\n",
       "    </tr>\n",
       "  </thead>\n",
       "  <tbody>\n",
       "    <tr>\n",
       "      <th>T-test</th>\n",
       "      <td>10.337969</td>\n",
       "      <td>30</td>\n",
       "      <td>two-sided</td>\n",
       "      <td>2.097850e-11</td>\n",
       "      <td>[65.05, 72.45]</td>\n",
       "      <td>1.856754</td>\n",
       "      <td>4.422e+08</td>\n",
       "      <td>1.0</td>\n",
       "    </tr>\n",
       "  </tbody>\n",
       "</table>\n",
       "</div>"
      ],
      "text/plain": [
       "                T  dof alternative         p-val           CI95%   cohen-d  \\\n",
       "T-test  10.337969   30   two-sided  2.097850e-11  [65.05, 72.45]  1.856754   \n",
       "\n",
       "             BF10  power  \n",
       "T-test  4.422e+08    1.0  "
      ]
     },
     "execution_count": 16,
     "metadata": {},
     "output_type": "execute_result"
    }
   ],
   "source": [
    "pingouin.ttest(sampleMain, 50)"
   ]
  },
  {
   "attachments": {},
   "cell_type": "markdown",
   "metadata": {},
   "source": [
    "#### Decision rule\n",
    "\n",
    "We further test pull-to-center behavior by estimating the followig RE decision rule:\n",
    "\n",
    "$Q_{i,t} = \\alpha MeanDemand + (1 - \\alpha)Q^*_i + u_i + \\epsilon_{i,t}$,\n",
    "\n",
    "where $\\alpha$ is a behavioral parameter that captures the level of anchoring toward the mean demand. Values of $\\alpha$ close to zero indicate participants make their ordering decisions following the optimal ordering policy. Values of $\\alpha$ close to one indicate participants' orders consistently deviate from the optimal order and place orders closer to the mean demand.\n",
    "\n",
    "We use all data from the **Main Experiment** to estimate an aggregate behavioral model that uses only one set of behavioral parameters for all participants. We estimate the model following a maximum likelihood (ML) estimation approach.\n",
    "\n",
    "This analysis is run in **Stata**. We're aware that Python offers integration with Stata, but the Stata version must be version 17 (or newer). Since all the analyses reported in this notebook were run in a computer with Stata 15, we provide the Stata code below."
   ]
  },
  {
   "attachments": {},
   "cell_type": "markdown",
   "metadata": {},
   "source": [
    "##### **Stata** code to implement the pull-to-center decision rule"
   ]
  },
  {
   "attachments": {},
   "cell_type": "markdown",
   "metadata": {},
   "source": [
    "\\* Make sure to replace `path_to_csv_file` with the appropriate path to the csv file with the raw data. This file is generated above and saved as `raw_data_r1_Stata.csv`\n",
    "```\n",
    "import delimited path_to_csv_file\n",
    "```\n",
    "\n",
    "\\* Generate a categorical variable from an existing string variable. In this case, we generate a categorical variable that captures the experiment. This variable is later used to filter the appropriate data for the estimation\n",
    "```\n",
    "encode experiment, gen(experiment_encoded)\n",
    "```\n",
    "\n",
    "\\* This is the program that defines the decision rule\n",
    "```\n",
    "global panel = \"subject_id_r\"\n",
    "capture program drop RE_ANCHORING\n",
    "program RE_ANCHORING\n",
    "args todo b lnfj\n",
    "tempvar anchor q_opt z z2 T a S_z2 S_temp Sz_2 first\n",
    "tempname sigma_u sigma_e ln_sigma_u ln_sigma_e\n",
    "mleval `anchor' = `b', eq(1)\n",
    "mleval `ln_sigma_u' = `b', eq(2) scalar\n",
    "mleval `ln_sigma_e' = `b', eq(3) scalar \n",
    "scalar `sigma_u' = exp(`ln_sigma_u')\n",
    "scalar `sigma_e' = exp(`ln_sigma_e')\n",
    "sort $panel\n",
    "qui {\n",
    "generate double `q_opt' = $ML_y2\n",
    "generate double `z' = `anchor'*50 + (1 - `anchor')*`q_opt'\n",
    "generate double `z2' = $ML_y1 - `z'\n",
    "by $panel: generate `T' = _N\n",
    "generate double `a' = `sigma_u'^2 / ( `T' * `sigma_u'^2 + `sigma_e'^2 )\n",
    "by $panel: egen double `S_z2' = sum( `z2'^2 )\n",
    "by $panel: egen double `S_temp' = sum( `z2' )\n",
    "by $panel: generate double `Sz_2' = `S_temp'^2\n",
    "by $panel: generate `first' = ( _n == 1 )\n",
    "mlsum `lnfj' = -.5 * ( ( `S_z2' - `a' * `Sz_2' ) / ( `sigma_e'^2 ) + log( `T' * `sigma_u'^2 / `sigma_e'^2 + 1 ) + `T' * log( 2*_pi * `sigma_e'^2 ) ) if `first' == 1\n",
    "}  \n",
    "end\n",
    "```\n",
    "\n",
    "\\* This is the ML estimation\n",
    "```\n",
    "ml model d0 RE_ANCHORING ( anchor: order optimum = ) ( ln_sigma_u: ) ( ln_sigma_e: ) if experiment_encoded == 2 & included_treatment == 1, technique(nr)  \n",
    "ml check\n",
    "ml maximize, difficult\n",
    "```"
   ]
  },
  {
   "attachments": {},
   "cell_type": "markdown",
   "metadata": {},
   "source": [
    "### 1.4. Target fill rates\n",
    "\n",
    "We take:\n",
    "\n",
    "- $\\eta = 1$, $k = 18$ (`treatment_id = 5`),\n",
    "- $\\eta = 0.5$, $k = 18$ (`treatment_id = 7`) and\n",
    "- the $newsvendor$ ($\\eta = 0$, no $k$) treatment (`treatment_id = 1`)\n",
    "\n",
    "to analyze the role of target fill rates in ordering decisions. We first compare participants' average orders with both the treatment's optimal order and the mean demand and then compare average orders among the three treatments."
   ]
  },
  {
   "cell_type": "code",
   "execution_count": 17,
   "metadata": {},
   "outputs": [],
   "source": [
    "# We take participants' average orders from the treatments of interest\n",
    "mainDataSL = rawData[(rawData[\"treatment_id\"] == 1) | \\\n",
    "    (rawData[\"treatment_id\"] == 5) | \\\n",
    "    (rawData[\"treatment_id\"] == 7)].groupby([\"treatment_id\", \"subject_id\"])[\"order\"].mean().reset_index()"
   ]
  },
  {
   "attachments": {},
   "cell_type": "markdown",
   "metadata": {},
   "source": [
    "#### $\\eta = 1$, $k = 18$"
   ]
  },
  {
   "cell_type": "code",
   "execution_count": 18,
   "metadata": {},
   "outputs": [
    {
     "data": {
      "text/html": [
       "<div>\n",
       "<style scoped>\n",
       "    .dataframe tbody tr th:only-of-type {\n",
       "        vertical-align: middle;\n",
       "    }\n",
       "\n",
       "    .dataframe tbody tr th {\n",
       "        vertical-align: top;\n",
       "    }\n",
       "\n",
       "    .dataframe thead th {\n",
       "        text-align: right;\n",
       "    }\n",
       "</style>\n",
       "<table border=\"1\" class=\"dataframe\">\n",
       "  <thead>\n",
       "    <tr style=\"text-align: right;\">\n",
       "      <th></th>\n",
       "      <th>T</th>\n",
       "      <th>dof</th>\n",
       "      <th>alternative</th>\n",
       "      <th>p-val</th>\n",
       "      <th>CI95%</th>\n",
       "      <th>cohen-d</th>\n",
       "      <th>BF10</th>\n",
       "      <th>power</th>\n",
       "    </tr>\n",
       "  </thead>\n",
       "  <tbody>\n",
       "    <tr>\n",
       "      <th>T-test</th>\n",
       "      <td>-9.551489</td>\n",
       "      <td>31</td>\n",
       "      <td>two-sided</td>\n",
       "      <td>9.477779e-11</td>\n",
       "      <td>[62.97, 70.13]</td>\n",
       "      <td>1.688481</td>\n",
       "      <td>1.06e+08</td>\n",
       "      <td>1.0</td>\n",
       "    </tr>\n",
       "  </tbody>\n",
       "</table>\n",
       "</div>"
      ],
      "text/plain": [
       "               T  dof alternative         p-val           CI95%   cohen-d  \\\n",
       "T-test -9.551489   31   two-sided  9.477779e-11  [62.97, 70.13]  1.688481   \n",
       "\n",
       "            BF10  power  \n",
       "T-test  1.06e+08    1.0  "
      ]
     },
     "execution_count": 18,
     "metadata": {},
     "output_type": "execute_result"
    }
   ],
   "source": [
    "optimum = rawData[rawData[\"treatment_id\"] == 5][\"optimum\"].iloc[0]\n",
    "sampleMainSL = mainDataSL[mainDataSL[\"treatment_id\"] == 5][\"order\"]\n",
    "pingouin.ttest(sampleMainSL, optimum)"
   ]
  },
  {
   "cell_type": "code",
   "execution_count": 19,
   "metadata": {},
   "outputs": [
    {
     "data": {
      "text/html": [
       "<div>\n",
       "<style scoped>\n",
       "    .dataframe tbody tr th:only-of-type {\n",
       "        vertical-align: middle;\n",
       "    }\n",
       "\n",
       "    .dataframe tbody tr th {\n",
       "        vertical-align: top;\n",
       "    }\n",
       "\n",
       "    .dataframe thead th {\n",
       "        text-align: right;\n",
       "    }\n",
       "</style>\n",
       "<table border=\"1\" class=\"dataframe\">\n",
       "  <thead>\n",
       "    <tr style=\"text-align: right;\">\n",
       "      <th></th>\n",
       "      <th>T</th>\n",
       "      <th>dof</th>\n",
       "      <th>alternative</th>\n",
       "      <th>p-val</th>\n",
       "      <th>CI95%</th>\n",
       "      <th>cohen-d</th>\n",
       "      <th>BF10</th>\n",
       "      <th>power</th>\n",
       "    </tr>\n",
       "  </thead>\n",
       "  <tbody>\n",
       "    <tr>\n",
       "      <th>T-test</th>\n",
       "      <td>9.419391</td>\n",
       "      <td>31</td>\n",
       "      <td>two-sided</td>\n",
       "      <td>1.310940e-10</td>\n",
       "      <td>[62.97, 70.13]</td>\n",
       "      <td>1.665129</td>\n",
       "      <td>7.79e+07</td>\n",
       "      <td>1.0</td>\n",
       "    </tr>\n",
       "  </tbody>\n",
       "</table>\n",
       "</div>"
      ],
      "text/plain": [
       "               T  dof alternative         p-val           CI95%   cohen-d  \\\n",
       "T-test  9.419391   31   two-sided  1.310940e-10  [62.97, 70.13]  1.665129   \n",
       "\n",
       "            BF10  power  \n",
       "T-test  7.79e+07    1.0  "
      ]
     },
     "execution_count": 19,
     "metadata": {},
     "output_type": "execute_result"
    }
   ],
   "source": [
    "pingouin.ttest(sampleMainSL, 50)"
   ]
  },
  {
   "attachments": {},
   "cell_type": "markdown",
   "metadata": {},
   "source": [
    "#### $\\eta = 0.5$, $k = 18$"
   ]
  },
  {
   "cell_type": "code",
   "execution_count": 20,
   "metadata": {},
   "outputs": [
    {
     "data": {
      "text/html": [
       "<div>\n",
       "<style scoped>\n",
       "    .dataframe tbody tr th:only-of-type {\n",
       "        vertical-align: middle;\n",
       "    }\n",
       "\n",
       "    .dataframe tbody tr th {\n",
       "        vertical-align: top;\n",
       "    }\n",
       "\n",
       "    .dataframe thead th {\n",
       "        text-align: right;\n",
       "    }\n",
       "</style>\n",
       "<table border=\"1\" class=\"dataframe\">\n",
       "  <thead>\n",
       "    <tr style=\"text-align: right;\">\n",
       "      <th></th>\n",
       "      <th>T</th>\n",
       "      <th>dof</th>\n",
       "      <th>alternative</th>\n",
       "      <th>p-val</th>\n",
       "      <th>CI95%</th>\n",
       "      <th>cohen-d</th>\n",
       "      <th>BF10</th>\n",
       "      <th>power</th>\n",
       "    </tr>\n",
       "  </thead>\n",
       "  <tbody>\n",
       "    <tr>\n",
       "      <th>T-test</th>\n",
       "      <td>-12.97556</td>\n",
       "      <td>31</td>\n",
       "      <td>two-sided</td>\n",
       "      <td>4.556234e-14</td>\n",
       "      <td>[46.73, 54.41]</td>\n",
       "      <td>2.293777</td>\n",
       "      <td>1.542e+11</td>\n",
       "      <td>1.0</td>\n",
       "    </tr>\n",
       "  </tbody>\n",
       "</table>\n",
       "</div>"
      ],
      "text/plain": [
       "               T  dof alternative         p-val           CI95%   cohen-d  \\\n",
       "T-test -12.97556   31   two-sided  4.556234e-14  [46.73, 54.41]  2.293777   \n",
       "\n",
       "             BF10  power  \n",
       "T-test  1.542e+11    1.0  "
      ]
     },
     "execution_count": 20,
     "metadata": {},
     "output_type": "execute_result"
    }
   ],
   "source": [
    "optimum = rawData[rawData[\"treatment_id\"] == 7][\"optimum\"].iloc[0]\n",
    "sampleMainSL = mainDataSL[mainDataSL[\"treatment_id\"] == 7][\"order\"]\n",
    "pingouin.ttest(sampleMainSL, optimum)"
   ]
  },
  {
   "cell_type": "code",
   "execution_count": 21,
   "metadata": {},
   "outputs": [
    {
     "data": {
      "text/html": [
       "<div>\n",
       "<style scoped>\n",
       "    .dataframe tbody tr th:only-of-type {\n",
       "        vertical-align: middle;\n",
       "    }\n",
       "\n",
       "    .dataframe tbody tr th {\n",
       "        vertical-align: top;\n",
       "    }\n",
       "\n",
       "    .dataframe thead th {\n",
       "        text-align: right;\n",
       "    }\n",
       "</style>\n",
       "<table border=\"1\" class=\"dataframe\">\n",
       "  <thead>\n",
       "    <tr style=\"text-align: right;\">\n",
       "      <th></th>\n",
       "      <th>T</th>\n",
       "      <th>dof</th>\n",
       "      <th>alternative</th>\n",
       "      <th>p-val</th>\n",
       "      <th>CI95%</th>\n",
       "      <th>cohen-d</th>\n",
       "      <th>BF10</th>\n",
       "      <th>power</th>\n",
       "    </tr>\n",
       "  </thead>\n",
       "  <tbody>\n",
       "    <tr>\n",
       "      <th>T-test</th>\n",
       "      <td>0.304897</td>\n",
       "      <td>31</td>\n",
       "      <td>two-sided</td>\n",
       "      <td>0.762482</td>\n",
       "      <td>[46.73, 54.41]</td>\n",
       "      <td>0.053899</td>\n",
       "      <td>0.197</td>\n",
       "      <td>0.060067</td>\n",
       "    </tr>\n",
       "  </tbody>\n",
       "</table>\n",
       "</div>"
      ],
      "text/plain": [
       "               T  dof alternative     p-val           CI95%   cohen-d   BF10  \\\n",
       "T-test  0.304897   31   two-sided  0.762482  [46.73, 54.41]  0.053899  0.197   \n",
       "\n",
       "           power  \n",
       "T-test  0.060067  "
      ]
     },
     "execution_count": 21,
     "metadata": {},
     "output_type": "execute_result"
    }
   ],
   "source": [
    "pingouin.ttest(sampleMainSL, 50)"
   ]
  },
  {
   "attachments": {},
   "cell_type": "markdown",
   "metadata": {},
   "source": [
    "#### $Newsvendor$ ($\\eta = 0$, no $k$)"
   ]
  },
  {
   "cell_type": "code",
   "execution_count": 22,
   "metadata": {},
   "outputs": [
    {
     "data": {
      "text/html": [
       "<div>\n",
       "<style scoped>\n",
       "    .dataframe tbody tr th:only-of-type {\n",
       "        vertical-align: middle;\n",
       "    }\n",
       "\n",
       "    .dataframe tbody tr th {\n",
       "        vertical-align: top;\n",
       "    }\n",
       "\n",
       "    .dataframe thead th {\n",
       "        text-align: right;\n",
       "    }\n",
       "</style>\n",
       "<table border=\"1\" class=\"dataframe\">\n",
       "  <thead>\n",
       "    <tr style=\"text-align: right;\">\n",
       "      <th></th>\n",
       "      <th>T</th>\n",
       "      <th>dof</th>\n",
       "      <th>alternative</th>\n",
       "      <th>p-val</th>\n",
       "      <th>CI95%</th>\n",
       "      <th>cohen-d</th>\n",
       "      <th>BF10</th>\n",
       "      <th>power</th>\n",
       "    </tr>\n",
       "  </thead>\n",
       "  <tbody>\n",
       "    <tr>\n",
       "      <th>T-test</th>\n",
       "      <td>-11.014735</td>\n",
       "      <td>30</td>\n",
       "      <td>two-sided</td>\n",
       "      <td>4.598630e-12</td>\n",
       "      <td>[47.46, 56.07]</td>\n",
       "      <td>1.978305</td>\n",
       "      <td>1.873e+09</td>\n",
       "      <td>1.0</td>\n",
       "    </tr>\n",
       "  </tbody>\n",
       "</table>\n",
       "</div>"
      ],
      "text/plain": [
       "                T  dof alternative         p-val           CI95%   cohen-d  \\\n",
       "T-test -11.014735   30   two-sided  4.598630e-12  [47.46, 56.07]  1.978305   \n",
       "\n",
       "             BF10  power  \n",
       "T-test  1.873e+09    1.0  "
      ]
     },
     "execution_count": 22,
     "metadata": {},
     "output_type": "execute_result"
    }
   ],
   "source": [
    "optimum = rawData[rawData[\"treatment_id\"] == 1][\"optimum\"].iloc[0]\n",
    "sampleMainSL = mainDataSL[mainDataSL[\"treatment_id\"] == 1][\"order\"]\n",
    "pingouin.ttest(sampleMainSL, optimum)"
   ]
  },
  {
   "cell_type": "code",
   "execution_count": 23,
   "metadata": {},
   "outputs": [
    {
     "data": {
      "text/html": [
       "<div>\n",
       "<style scoped>\n",
       "    .dataframe tbody tr th:only-of-type {\n",
       "        vertical-align: middle;\n",
       "    }\n",
       "\n",
       "    .dataframe tbody tr th {\n",
       "        vertical-align: top;\n",
       "    }\n",
       "\n",
       "    .dataframe thead th {\n",
       "        text-align: right;\n",
       "    }\n",
       "</style>\n",
       "<table border=\"1\" class=\"dataframe\">\n",
       "  <thead>\n",
       "    <tr style=\"text-align: right;\">\n",
       "      <th></th>\n",
       "      <th>T</th>\n",
       "      <th>dof</th>\n",
       "      <th>alternative</th>\n",
       "      <th>p-val</th>\n",
       "      <th>CI95%</th>\n",
       "      <th>cohen-d</th>\n",
       "      <th>BF10</th>\n",
       "      <th>power</th>\n",
       "    </tr>\n",
       "  </thead>\n",
       "  <tbody>\n",
       "    <tr>\n",
       "      <th>T-test</th>\n",
       "      <td>0.837014</td>\n",
       "      <td>30</td>\n",
       "      <td>two-sided</td>\n",
       "      <td>0.409203</td>\n",
       "      <td>[47.46, 56.07]</td>\n",
       "      <td>0.150332</td>\n",
       "      <td>0.264</td>\n",
       "      <td>0.127974</td>\n",
       "    </tr>\n",
       "  </tbody>\n",
       "</table>\n",
       "</div>"
      ],
      "text/plain": [
       "               T  dof alternative     p-val           CI95%   cohen-d   BF10  \\\n",
       "T-test  0.837014   30   two-sided  0.409203  [47.46, 56.07]  0.150332  0.264   \n",
       "\n",
       "           power  \n",
       "T-test  0.127974  "
      ]
     },
     "execution_count": 23,
     "metadata": {},
     "output_type": "execute_result"
    }
   ],
   "source": [
    "pingouin.ttest(sampleMainSL, 50)"
   ]
  },
  {
   "attachments": {},
   "cell_type": "markdown",
   "metadata": {},
   "source": [
    "#### Average orders comparison among the three treatments\n",
    "\n",
    "The boxplot below isn't reported in the paper."
   ]
  },
  {
   "cell_type": "code",
   "execution_count": 24,
   "metadata": {},
   "outputs": [],
   "source": [
    "# We drop the feature 'subject_id'\n",
    "mainDataSL.drop(\"subject_id\", axis = 1, inplace = True)\n",
    "\n",
    "# We create a dictionary to relabel the treatments so that it's easier to read the results\n",
    "t_dict = { 1: \"NV\",\n",
    "           5: \"SL1_k18\",\n",
    "           7: \"SL0.5_k18\"\n",
    "}\n",
    "\n",
    "# We relabel the treatments\n",
    "mainDataSL[\"treatment_id\"] = mainDataSL[\"treatment_id\"].map(t_dict)\n",
    "\n",
    "# We set the treatment order for the plots (NV < SL0.5_k18 < SL1_k18)\n",
    "mainDataSL[\"treatment_id\"] = mainDataSL[\"treatment_id\"].astype(\"category\")\n",
    "mainDataSL[\"treatment_id\"] = mainDataSL[\"treatment_id\"].cat.set_categories([\"NV\", \"SL0.5_k18\", \"SL1_k18\"], \\\n",
    "    ordered = True)"
   ]
  },
  {
   "cell_type": "code",
   "execution_count": 25,
   "metadata": {},
   "outputs": [
    {
     "data": {
      "image/png": "[encoded data removed]",
      "text/plain": [
       "<Figure size 800x600 with 1 Axes>"
      ]
     },
     "metadata": {},
     "output_type": "display_data"
    }
   ],
   "source": [
    "### This plot isn't reported in the paper \n",
    "\n",
    "# We create a DataFrame for adding optimal orders on the boxplots\n",
    "optimalOrders = [[\"NV\", 75], [\"SL0.5_k18\", 75], [\"SL1_k18\", 83.33]]\n",
    "optimalOrdersDF = pd.DataFrame(optimalOrders, columns=[\"ec\", \"opt\"])\n",
    "\n",
    "# We create the boxplot\n",
    "fig, ax = plt.subplots(figsize = (8, 6))\n",
    "sns.boxplot(x = \"treatment_id\", y = \"order\", data = mainDataSL, palette = \"Greys\", ax = ax)\n",
    "\n",
    "# We add the optimal orders\n",
    "sns.scatterplot(x = \"ec\", y = \"opt\", data = optimalOrdersDF, s = 75, color = \"#848482\", marker = \"X\", ax = ax)\n",
    "sns.lineplot(x = \"ec\", y = \"opt\", data = optimalOrdersDF, linewidth = 0.5, color = \"#848482\", ax = ax)\n",
    "\n",
    "# We add the mean demand\n",
    "plt.axhline(y = 50, color = \"#3B444B\", ls = \"--\")\n",
    "\n",
    "# We add axis labels\n",
    "plt.xlabel(\"Treatment\", fontsize = 12)\n",
    "plt.ylabel(\"Orders\", fontsize = 12)\n",
    "plt.title(\"Ordering behavior\", fontsize = 16)\n",
    "\n",
    "# We add legends\n",
    "fig.text(0.7, 0.25, \"x Optimum\", color = \"#848482\", size = 12)\n",
    "fig.text(0.7, 0.2, \"-- Mean demand\", color = \"#3B444B\", size = 12)\n",
    "\n",
    "plt.show()"
   ]
  },
  {
   "cell_type": "code",
   "execution_count": 26,
   "metadata": {},
   "outputs": [
    {
     "data": {
      "text/plain": [
       "F_onewayResult(statistic=21.669273170371717, pvalue=1.9446914957212142e-08)"
      ]
     },
     "execution_count": 26,
     "metadata": {},
     "output_type": "execute_result"
    }
   ],
   "source": [
    "# We compare the average orders among the three treatments using a one-way ANOVA\n",
    "f_oneway(mainDataSL[mainDataSL[\"treatment_id\"] == \"NV\"][\"order\"], \\\n",
    "    mainDataSL[mainDataSL[\"treatment_id\"] == \"SL0.5_k18\"][\"order\"], \\\n",
    "    mainDataSL[mainDataSL[\"treatment_id\"] == \"SL1_k18\"][\"order\"])"
   ]
  },
  {
   "cell_type": "code",
   "execution_count": 27,
   "metadata": {},
   "outputs": [
    {
     "data": {
      "text/html": [
       "<table class=\"simpletable\">\n",
       "<caption>Multiple Comparison of Means - Tukey HSD, FWER=0.05</caption>\n",
       "<tr>\n",
       "   <th>group1</th>    <th>group2</th>   <th>meandiff</th>  <th>p-adj</th>  <th>lower</th>   <th>upper</th>  <th>reject</th>\n",
       "</tr>\n",
       "<tr>\n",
       "     <td>NV</td>     <td>SL0.5_k18</td>  <td>-1.1916</td> <td>0.8997</td> <td>-7.6707</td> <td>5.2874</td>   <td>False</td>\n",
       "</tr>\n",
       "<tr>\n",
       "     <td>NV</td>      <td>SL1_k18</td>   <td>14.7834</td>   <td>0.0</td>  <td>8.3043</td>  <td>21.2624</td>  <td>True</td> \n",
       "</tr>\n",
       "<tr>\n",
       "  <td>SL0.5_k18</td>  <td>SL1_k18</td>   <td>15.975</td>    <td>0.0</td>  <td>9.5476</td>  <td>22.4024</td>  <td>True</td> \n",
       "</tr>\n",
       "</table>"
      ],
      "text/plain": [
       "<class 'statsmodels.iolib.table.SimpleTable'>"
      ]
     },
     "execution_count": 27,
     "metadata": {},
     "output_type": "execute_result"
    }
   ],
   "source": [
    "# We run the Tukey HSD post-hoc comparison tests to check differences among treatment pairs\n",
    "pairwise_tukeyhsd(mainDataSL[\"order\"], mainDataSL[\"treatment_id\"]).summary()"
   ]
  },
  {
   "cell_type": "code",
   "execution_count": 28,
   "metadata": {},
   "outputs": [
    {
     "data": {
      "text/html": [
       "<div>\n",
       "<style scoped>\n",
       "    .dataframe tbody tr th:only-of-type {\n",
       "        vertical-align: middle;\n",
       "    }\n",
       "\n",
       "    .dataframe tbody tr th {\n",
       "        vertical-align: top;\n",
       "    }\n",
       "\n",
       "    .dataframe thead th {\n",
       "        text-align: right;\n",
       "    }\n",
       "</style>\n",
       "<table border=\"1\" class=\"dataframe\">\n",
       "  <thead>\n",
       "    <tr style=\"text-align: right;\">\n",
       "      <th></th>\n",
       "      <th>group</th>\n",
       "      <th>mean_difference</th>\n",
       "      <th>std_error</th>\n",
       "      <th>t_value</th>\n",
       "      <th>p_value</th>\n",
       "      <th>lower_limit</th>\n",
       "      <th>upper_limit</th>\n",
       "    </tr>\n",
       "  </thead>\n",
       "  <tbody>\n",
       "    <tr>\n",
       "      <th>0</th>\n",
       "      <td>NV : SL0.5_k18</td>\n",
       "      <td>-1.191633</td>\n",
       "      <td>1.999152</td>\n",
       "      <td>0.421485</td>\n",
       "      <td>0.900</td>\n",
       "      <td>-7.985995</td>\n",
       "      <td>5.602729</td>\n",
       "    </tr>\n",
       "    <tr>\n",
       "      <th>1</th>\n",
       "      <td>NV : SL1_k18</td>\n",
       "      <td>14.783367</td>\n",
       "      <td>1.941166</td>\n",
       "      <td>5.385124</td>\n",
       "      <td>0.001</td>\n",
       "      <td>8.182445</td>\n",
       "      <td>21.384289</td>\n",
       "    </tr>\n",
       "    <tr>\n",
       "      <th>2</th>\n",
       "      <td>SL0.5_k18 : SL1_k18</td>\n",
       "      <td>15.975000</td>\n",
       "      <td>1.820767</td>\n",
       "      <td>6.203996</td>\n",
       "      <td>0.001</td>\n",
       "      <td>9.791229</td>\n",
       "      <td>22.158771</td>\n",
       "    </tr>\n",
       "  </tbody>\n",
       "</table>\n",
       "</div>"
      ],
      "text/plain": [
       "                 group  mean_difference  std_error   t_value  p_value  \\\n",
       "0       NV : SL0.5_k18        -1.191633   1.999152  0.421485    0.900   \n",
       "1         NV : SL1_k18        14.783367   1.941166  5.385124    0.001   \n",
       "2  SL0.5_k18 : SL1_k18        15.975000   1.820767  6.203996    0.001   \n",
       "\n",
       "   lower_limit  upper_limit  \n",
       "0    -7.985995     5.602729  \n",
       "1     8.182445    21.384289  \n",
       "2     9.791229    22.158771  "
      ]
     },
     "execution_count": 28,
     "metadata": {},
     "output_type": "execute_result"
    }
   ],
   "source": [
    "# For robustness, we run the Games-Howell post-hoc comparison tests to check differences among treatment pairs\n",
    "h_f.run_games_howell(mainDataSL[[\"treatment_id\", \"order\"]])"
   ]
  },
  {
   "attachments": {},
   "cell_type": "markdown",
   "metadata": {},
   "source": [
    "## 2. Salience Experiment\n",
    "\n",
    "We replicate the **expediting cost** and **pull-to-center** analyses."
   ]
  },
  {
   "attachments": {},
   "cell_type": "markdown",
   "metadata": {},
   "source": [
    "### 2.1. Expediting cost"
   ]
  },
  {
   "cell_type": "code",
   "execution_count": 29,
   "metadata": {},
   "outputs": [
    {
     "name": "stderr",
     "output_type": "stream",
     "text": [
      "/mnt/c/Users/USER/DS_Projects/Paper_expediting/expedited_shipping/.conda/lib/python3.10/site-packages/linearmodels/panel/model.py:2574: MissingValueWarning: \n",
      "Inputs contain missing values. Dropping rows with missing observations.\n",
      "  super().__init__(dependent, exog, weights=weights, check_rank=check_rank)\n"
     ]
    },
    {
     "name": "stdout",
     "output_type": "stream",
     "text": [
      "                        RandomEffects Estimation Summary                        \n",
      "================================================================================\n",
      "Dep. Variable:                  order   R-squared:                        0.5345\n",
      "Estimator:              RandomEffects   R-squared (Between):              0.9019\n",
      "No. Observations:                3306   R-squared (Within):              -0.1183\n",
      "Date:                Tue, Jun 13 2023   R-squared (Overall):              0.5345\n",
      "Time:                        15:48:29   Log-likelihood                -1.366e+04\n",
      "Cov. Estimator:            Unadjusted                                           \n",
      "                                        F-statistic:                      420.59\n",
      "Entities:                         174   P-value                           0.0000\n",
      "Avg Obs:                       19.000   Distribution:                  F(9,3296)\n",
      "Min Obs:                       19.000                                           \n",
      "Max Obs:                       19.000   F-statistic (robust):             420.59\n",
      "                                        P-value                           0.0000\n",
      "Time periods:                      19   Distribution:                  F(9,3296)\n",
      "Avg Obs:                       174.00                                           \n",
      "Min Obs:                       174.00                                           \n",
      "Max Obs:                       174.00                                           \n",
      "                                                                                \n",
      "                                    Parameter Estimates                                    \n",
      "===========================================================================================\n",
      "                         Parameter  Std. Err.     T-stat    P-value    Lower CI    Upper CI\n",
      "-------------------------------------------------------------------------------------------\n",
      "Intercept                   12.812     1.6182     7.9171     0.0000      9.6388      15.984\n",
      "age                         0.0968     0.1499     0.6461     0.5183     -0.1970      0.3907\n",
      "expediting_cost             0.3181     0.0302     10.520     0.0000      0.2588      0.3774\n",
      "gender_r                   -2.2646     0.5417    -4.1806     0.0000     -3.3266     -1.2025\n",
      "lagdemand                   0.7601     0.0159     47.955     0.0000      0.7291      0.7912\n",
      "lagleftover                 0.6299     0.0175     36.039     0.0000      0.5956      0.6641\n",
      "lagshortage                -0.6399     0.0195    -32.853     0.0000     -0.6781     -0.6017\n",
      "related_course_r[T.Yes]     0.8628     0.5325     1.6202     0.1053     -0.1813      1.9068\n",
      "round_r                     0.0014     0.0479     0.0288     0.9770     -0.0925      0.0953\n",
      "semester                   -0.1672     0.1264    -1.3228     0.1860     -0.4150      0.0806\n",
      "===========================================================================================\n"
     ]
    }
   ],
   "source": [
    "# We take the data from the Salience Experiment\n",
    "rawDataSalience = rawData[rawData[\"experiment\"] == \"Salience\"].copy()\n",
    "\n",
    "# We set the indexes to run the RE model\n",
    "rawDataSalience = rawDataSalience.set_index([\"subject_id_r\", \"round\"])\n",
    "\n",
    "# We use a formula approach\n",
    "independentVariables = \"expediting_cost + lagdemand + lagshortage + lagleftover + round_r + gender_r + age + \\\n",
    "    semester + related_course_r\"\n",
    "model = RandomEffects.from_formula(\"order ~ 1 + \" + independentVariables, rawDataSalience).fit()\n",
    "print(model)"
   ]
  },
  {
   "attachments": {},
   "cell_type": "markdown",
   "metadata": {},
   "source": [
    "### 2.2. Pull-to-center"
   ]
  },
  {
   "attachments": {},
   "cell_type": "markdown",
   "metadata": {},
   "source": [
    "#### $k = 4$"
   ]
  },
  {
   "cell_type": "code",
   "execution_count": 30,
   "metadata": {},
   "outputs": [
    {
     "data": {
      "text/html": [
       "<div>\n",
       "<style scoped>\n",
       "    .dataframe tbody tr th:only-of-type {\n",
       "        vertical-align: middle;\n",
       "    }\n",
       "\n",
       "    .dataframe tbody tr th {\n",
       "        vertical-align: top;\n",
       "    }\n",
       "\n",
       "    .dataframe thead th {\n",
       "        text-align: right;\n",
       "    }\n",
       "</style>\n",
       "<table border=\"1\" class=\"dataframe\">\n",
       "  <thead>\n",
       "    <tr style=\"text-align: right;\">\n",
       "      <th></th>\n",
       "      <th>T</th>\n",
       "      <th>dof</th>\n",
       "      <th>alternative</th>\n",
       "      <th>p-val</th>\n",
       "      <th>CI95%</th>\n",
       "      <th>cohen-d</th>\n",
       "      <th>BF10</th>\n",
       "      <th>power</th>\n",
       "    </tr>\n",
       "  </thead>\n",
       "  <tbody>\n",
       "    <tr>\n",
       "      <th>T-test</th>\n",
       "      <td>6.340553</td>\n",
       "      <td>33</td>\n",
       "      <td>two-sided</td>\n",
       "      <td>3.553396e-07</td>\n",
       "      <td>[41.19, 56.48]</td>\n",
       "      <td>1.087396</td>\n",
       "      <td>4.56e+04</td>\n",
       "      <td>0.999986</td>\n",
       "    </tr>\n",
       "  </tbody>\n",
       "</table>\n",
       "</div>"
      ],
      "text/plain": [
       "               T  dof alternative         p-val           CI95%   cohen-d  \\\n",
       "T-test  6.340553   33   two-sided  3.553396e-07  [41.19, 56.48]  1.087396   \n",
       "\n",
       "            BF10     power  \n",
       "T-test  4.56e+04  0.999986  "
      ]
     },
     "execution_count": 30,
     "metadata": {},
     "output_type": "execute_result"
    }
   ],
   "source": [
    "# We take participants' average orders from the Salience treatments\n",
    "salienceData = main_salience[main_salience[\"experiment\"] == \"Salience\"].\\\n",
    "    groupby([\"treatment_id\", \"subject_id\"])[\"order\"].mean().reset_index()\n",
    "\n",
    "optimum = rawData[rawData[\"treatment_id\"] == 10][\"optimum\"].iloc[0]\n",
    "sampleSalience = salienceData[salienceData[\"treatment_id\"] == 10][\"order\"]\n",
    "pingouin.ttest(sampleSalience, optimum)"
   ]
  },
  {
   "cell_type": "code",
   "execution_count": 31,
   "metadata": {},
   "outputs": [
    {
     "data": {
      "text/html": [
       "<div>\n",
       "<style scoped>\n",
       "    .dataframe tbody tr th:only-of-type {\n",
       "        vertical-align: middle;\n",
       "    }\n",
       "\n",
       "    .dataframe tbody tr th {\n",
       "        vertical-align: top;\n",
       "    }\n",
       "\n",
       "    .dataframe thead th {\n",
       "        text-align: right;\n",
       "    }\n",
       "</style>\n",
       "<table border=\"1\" class=\"dataframe\">\n",
       "  <thead>\n",
       "    <tr style=\"text-align: right;\">\n",
       "      <th></th>\n",
       "      <th>T</th>\n",
       "      <th>dof</th>\n",
       "      <th>alternative</th>\n",
       "      <th>p-val</th>\n",
       "      <th>CI95%</th>\n",
       "      <th>cohen-d</th>\n",
       "      <th>BF10</th>\n",
       "      <th>power</th>\n",
       "    </tr>\n",
       "  </thead>\n",
       "  <tbody>\n",
       "    <tr>\n",
       "      <th>T-test</th>\n",
       "      <td>-0.31065</td>\n",
       "      <td>33</td>\n",
       "      <td>two-sided</td>\n",
       "      <td>0.75802</td>\n",
       "      <td>[41.19, 56.48]</td>\n",
       "      <td>0.053276</td>\n",
       "      <td>0.192</td>\n",
       "      <td>0.060492</td>\n",
       "    </tr>\n",
       "  </tbody>\n",
       "</table>\n",
       "</div>"
      ],
      "text/plain": [
       "              T  dof alternative    p-val           CI95%   cohen-d   BF10  \\\n",
       "T-test -0.31065   33   two-sided  0.75802  [41.19, 56.48]  0.053276  0.192   \n",
       "\n",
       "           power  \n",
       "T-test  0.060492  "
      ]
     },
     "execution_count": 31,
     "metadata": {},
     "output_type": "execute_result"
    }
   ],
   "source": [
    "pingouin.ttest(sampleSalience, 50)"
   ]
  },
  {
   "attachments": {},
   "cell_type": "markdown",
   "metadata": {},
   "source": [
    "#### $k = 6$"
   ]
  },
  {
   "cell_type": "code",
   "execution_count": 32,
   "metadata": {},
   "outputs": [
    {
     "data": {
      "text/html": [
       "<div>\n",
       "<style scoped>\n",
       "    .dataframe tbody tr th:only-of-type {\n",
       "        vertical-align: middle;\n",
       "    }\n",
       "\n",
       "    .dataframe tbody tr th {\n",
       "        vertical-align: top;\n",
       "    }\n",
       "\n",
       "    .dataframe thead th {\n",
       "        text-align: right;\n",
       "    }\n",
       "</style>\n",
       "<table border=\"1\" class=\"dataframe\">\n",
       "  <thead>\n",
       "    <tr style=\"text-align: right;\">\n",
       "      <th></th>\n",
       "      <th>T</th>\n",
       "      <th>dof</th>\n",
       "      <th>alternative</th>\n",
       "      <th>p-val</th>\n",
       "      <th>CI95%</th>\n",
       "      <th>cohen-d</th>\n",
       "      <th>BF10</th>\n",
       "      <th>power</th>\n",
       "    </tr>\n",
       "  </thead>\n",
       "  <tbody>\n",
       "    <tr>\n",
       "      <th>T-test</th>\n",
       "      <td>1.367967</td>\n",
       "      <td>34</td>\n",
       "      <td>two-sided</td>\n",
       "      <td>0.180296</td>\n",
       "      <td>[48.4, 58.18]</td>\n",
       "      <td>0.231229</td>\n",
       "      <td>0.426</td>\n",
       "      <td>0.264686</td>\n",
       "    </tr>\n",
       "  </tbody>\n",
       "</table>\n",
       "</div>"
      ],
      "text/plain": [
       "               T  dof alternative     p-val          CI95%   cohen-d   BF10  \\\n",
       "T-test  1.367967   34   two-sided  0.180296  [48.4, 58.18]  0.231229  0.426   \n",
       "\n",
       "           power  \n",
       "T-test  0.264686  "
      ]
     },
     "execution_count": 32,
     "metadata": {},
     "output_type": "execute_result"
    }
   ],
   "source": [
    "optimum = rawData[rawData[\"treatment_id\"] == 11][\"optimum\"].iloc[0]\n",
    "sampleSalience = salienceData[salienceData[\"treatment_id\"] == 11][\"order\"]\n",
    "pingouin.ttest(sampleSalience, optimum)"
   ]
  },
  {
   "cell_type": "code",
   "execution_count": 33,
   "metadata": {},
   "outputs": [
    {
     "data": {
      "text/html": [
       "<div>\n",
       "<style scoped>\n",
       "    .dataframe tbody tr th:only-of-type {\n",
       "        vertical-align: middle;\n",
       "    }\n",
       "\n",
       "    .dataframe tbody tr th {\n",
       "        vertical-align: top;\n",
       "    }\n",
       "\n",
       "    .dataframe thead th {\n",
       "        text-align: right;\n",
       "    }\n",
       "</style>\n",
       "<table border=\"1\" class=\"dataframe\">\n",
       "  <thead>\n",
       "    <tr style=\"text-align: right;\">\n",
       "      <th></th>\n",
       "      <th>T</th>\n",
       "      <th>dof</th>\n",
       "      <th>alternative</th>\n",
       "      <th>p-val</th>\n",
       "      <th>CI95%</th>\n",
       "      <th>cohen-d</th>\n",
       "      <th>BF10</th>\n",
       "      <th>power</th>\n",
       "    </tr>\n",
       "  </thead>\n",
       "  <tbody>\n",
       "    <tr>\n",
       "      <th>T-test</th>\n",
       "      <td>1.367967</td>\n",
       "      <td>34</td>\n",
       "      <td>two-sided</td>\n",
       "      <td>0.180296</td>\n",
       "      <td>[48.4, 58.18]</td>\n",
       "      <td>0.231229</td>\n",
       "      <td>0.426</td>\n",
       "      <td>0.264686</td>\n",
       "    </tr>\n",
       "  </tbody>\n",
       "</table>\n",
       "</div>"
      ],
      "text/plain": [
       "               T  dof alternative     p-val          CI95%   cohen-d   BF10  \\\n",
       "T-test  1.367967   34   two-sided  0.180296  [48.4, 58.18]  0.231229  0.426   \n",
       "\n",
       "           power  \n",
       "T-test  0.264686  "
      ]
     },
     "execution_count": 33,
     "metadata": {},
     "output_type": "execute_result"
    }
   ],
   "source": [
    "pingouin.ttest(sampleSalience, 50)"
   ]
  },
  {
   "attachments": {},
   "cell_type": "markdown",
   "metadata": {},
   "source": [
    "#### $k = 12$"
   ]
  },
  {
   "cell_type": "code",
   "execution_count": 34,
   "metadata": {},
   "outputs": [
    {
     "data": {
      "text/html": [
       "<div>\n",
       "<style scoped>\n",
       "    .dataframe tbody tr th:only-of-type {\n",
       "        vertical-align: middle;\n",
       "    }\n",
       "\n",
       "    .dataframe tbody tr th {\n",
       "        vertical-align: top;\n",
       "    }\n",
       "\n",
       "    .dataframe thead th {\n",
       "        text-align: right;\n",
       "    }\n",
       "</style>\n",
       "<table border=\"1\" class=\"dataframe\">\n",
       "  <thead>\n",
       "    <tr style=\"text-align: right;\">\n",
       "      <th></th>\n",
       "      <th>T</th>\n",
       "      <th>dof</th>\n",
       "      <th>alternative</th>\n",
       "      <th>p-val</th>\n",
       "      <th>CI95%</th>\n",
       "      <th>cohen-d</th>\n",
       "      <th>BF10</th>\n",
       "      <th>power</th>\n",
       "    </tr>\n",
       "  </thead>\n",
       "  <tbody>\n",
       "    <tr>\n",
       "      <th>T-test</th>\n",
       "      <td>-5.970395</td>\n",
       "      <td>34</td>\n",
       "      <td>two-sided</td>\n",
       "      <td>9.408796e-07</td>\n",
       "      <td>[55.58, 65.44]</td>\n",
       "      <td>1.009181</td>\n",
       "      <td>1.835e+04</td>\n",
       "      <td>0.999937</td>\n",
       "    </tr>\n",
       "  </tbody>\n",
       "</table>\n",
       "</div>"
      ],
      "text/plain": [
       "               T  dof alternative         p-val           CI95%   cohen-d  \\\n",
       "T-test -5.970395   34   two-sided  9.408796e-07  [55.58, 65.44]  1.009181   \n",
       "\n",
       "             BF10     power  \n",
       "T-test  1.835e+04  0.999937  "
      ]
     },
     "execution_count": 34,
     "metadata": {},
     "output_type": "execute_result"
    }
   ],
   "source": [
    "optimum = rawData[rawData[\"treatment_id\"] == 12][\"optimum\"].iloc[0]\n",
    "sampleSalience = salienceData[salienceData[\"treatment_id\"] == 12][\"order\"]\n",
    "pingouin.ttest(sampleSalience, optimum)"
   ]
  },
  {
   "cell_type": "code",
   "execution_count": 35,
   "metadata": {},
   "outputs": [
    {
     "data": {
      "text/html": [
       "<div>\n",
       "<style scoped>\n",
       "    .dataframe tbody tr th:only-of-type {\n",
       "        vertical-align: middle;\n",
       "    }\n",
       "\n",
       "    .dataframe tbody tr th {\n",
       "        vertical-align: top;\n",
       "    }\n",
       "\n",
       "    .dataframe thead th {\n",
       "        text-align: right;\n",
       "    }\n",
       "</style>\n",
       "<table border=\"1\" class=\"dataframe\">\n",
       "  <thead>\n",
       "    <tr style=\"text-align: right;\">\n",
       "      <th></th>\n",
       "      <th>T</th>\n",
       "      <th>dof</th>\n",
       "      <th>alternative</th>\n",
       "      <th>p-val</th>\n",
       "      <th>CI95%</th>\n",
       "      <th>cohen-d</th>\n",
       "      <th>BF10</th>\n",
       "      <th>power</th>\n",
       "    </tr>\n",
       "  </thead>\n",
       "  <tbody>\n",
       "    <tr>\n",
       "      <th>T-test</th>\n",
       "      <td>4.331509</td>\n",
       "      <td>34</td>\n",
       "      <td>two-sided</td>\n",
       "      <td>0.000124</td>\n",
       "      <td>[55.58, 65.44]</td>\n",
       "      <td>0.732159</td>\n",
       "      <td>206.505</td>\n",
       "      <td>0.987657</td>\n",
       "    </tr>\n",
       "  </tbody>\n",
       "</table>\n",
       "</div>"
      ],
      "text/plain": [
       "               T  dof alternative     p-val           CI95%   cohen-d  \\\n",
       "T-test  4.331509   34   two-sided  0.000124  [55.58, 65.44]  0.732159   \n",
       "\n",
       "           BF10     power  \n",
       "T-test  206.505  0.987657  "
      ]
     },
     "execution_count": 35,
     "metadata": {},
     "output_type": "execute_result"
    }
   ],
   "source": [
    "pingouin.ttest(sampleSalience, 50)"
   ]
  },
  {
   "attachments": {},
   "cell_type": "markdown",
   "metadata": {},
   "source": [
    "#### $k = 18$"
   ]
  },
  {
   "cell_type": "code",
   "execution_count": 36,
   "metadata": {},
   "outputs": [
    {
     "data": {
      "text/html": [
       "<div>\n",
       "<style scoped>\n",
       "    .dataframe tbody tr th:only-of-type {\n",
       "        vertical-align: middle;\n",
       "    }\n",
       "\n",
       "    .dataframe tbody tr th {\n",
       "        vertical-align: top;\n",
       "    }\n",
       "\n",
       "    .dataframe thead th {\n",
       "        text-align: right;\n",
       "    }\n",
       "</style>\n",
       "<table border=\"1\" class=\"dataframe\">\n",
       "  <thead>\n",
       "    <tr style=\"text-align: right;\">\n",
       "      <th></th>\n",
       "      <th>T</th>\n",
       "      <th>dof</th>\n",
       "      <th>alternative</th>\n",
       "      <th>p-val</th>\n",
       "      <th>CI95%</th>\n",
       "      <th>cohen-d</th>\n",
       "      <th>BF10</th>\n",
       "      <th>power</th>\n",
       "    </tr>\n",
       "  </thead>\n",
       "  <tbody>\n",
       "    <tr>\n",
       "      <th>T-test</th>\n",
       "      <td>-7.952619</td>\n",
       "      <td>34</td>\n",
       "      <td>two-sided</td>\n",
       "      <td>2.894806e-09</td>\n",
       "      <td>[62.09, 70.74]</td>\n",
       "      <td>1.344238</td>\n",
       "      <td>4.171e+06</td>\n",
       "      <td>1.0</td>\n",
       "    </tr>\n",
       "  </tbody>\n",
       "</table>\n",
       "</div>"
      ],
      "text/plain": [
       "               T  dof alternative         p-val           CI95%   cohen-d  \\\n",
       "T-test -7.952619   34   two-sided  2.894806e-09  [62.09, 70.74]  1.344238   \n",
       "\n",
       "             BF10  power  \n",
       "T-test  4.171e+06    1.0  "
      ]
     },
     "execution_count": 36,
     "metadata": {},
     "output_type": "execute_result"
    }
   ],
   "source": [
    "optimum = rawData[rawData[\"treatment_id\"] == 13][\"optimum\"].iloc[0]\n",
    "sampleSalience = salienceData[salienceData[\"treatment_id\"] == 13][\"order\"]\n",
    "pingouin.ttest(sampleSalience, optimum)"
   ]
  },
  {
   "cell_type": "code",
   "execution_count": 37,
   "metadata": {},
   "outputs": [
    {
     "data": {
      "text/html": [
       "<div>\n",
       "<style scoped>\n",
       "    .dataframe tbody tr th:only-of-type {\n",
       "        vertical-align: middle;\n",
       "    }\n",
       "\n",
       "    .dataframe tbody tr th {\n",
       "        vertical-align: top;\n",
       "    }\n",
       "\n",
       "    .dataframe thead th {\n",
       "        text-align: right;\n",
       "    }\n",
       "</style>\n",
       "<table border=\"1\" class=\"dataframe\">\n",
       "  <thead>\n",
       "    <tr style=\"text-align: right;\">\n",
       "      <th></th>\n",
       "      <th>T</th>\n",
       "      <th>dof</th>\n",
       "      <th>alternative</th>\n",
       "      <th>p-val</th>\n",
       "      <th>CI95%</th>\n",
       "      <th>cohen-d</th>\n",
       "      <th>BF10</th>\n",
       "      <th>power</th>\n",
       "    </tr>\n",
       "  </thead>\n",
       "  <tbody>\n",
       "    <tr>\n",
       "      <th>T-test</th>\n",
       "      <td>7.716881</td>\n",
       "      <td>34</td>\n",
       "      <td>two-sided</td>\n",
       "      <td>5.646991e-09</td>\n",
       "      <td>[62.09, 70.74]</td>\n",
       "      <td>1.304391</td>\n",
       "      <td>2.219e+06</td>\n",
       "      <td>1.0</td>\n",
       "    </tr>\n",
       "  </tbody>\n",
       "</table>\n",
       "</div>"
      ],
      "text/plain": [
       "               T  dof alternative         p-val           CI95%   cohen-d  \\\n",
       "T-test  7.716881   34   two-sided  5.646991e-09  [62.09, 70.74]  1.304391   \n",
       "\n",
       "             BF10  power  \n",
       "T-test  2.219e+06    1.0  "
      ]
     },
     "execution_count": 37,
     "metadata": {},
     "output_type": "execute_result"
    }
   ],
   "source": [
    "pingouin.ttest(sampleSalience, 50)"
   ]
  },
  {
   "attachments": {},
   "cell_type": "markdown",
   "metadata": {},
   "source": [
    "#### $k = 30$"
   ]
  },
  {
   "cell_type": "code",
   "execution_count": 38,
   "metadata": {},
   "outputs": [
    {
     "data": {
      "text/html": [
       "<div>\n",
       "<style scoped>\n",
       "    .dataframe tbody tr th:only-of-type {\n",
       "        vertical-align: middle;\n",
       "    }\n",
       "\n",
       "    .dataframe tbody tr th {\n",
       "        vertical-align: top;\n",
       "    }\n",
       "\n",
       "    .dataframe thead th {\n",
       "        text-align: right;\n",
       "    }\n",
       "</style>\n",
       "<table border=\"1\" class=\"dataframe\">\n",
       "  <thead>\n",
       "    <tr style=\"text-align: right;\">\n",
       "      <th></th>\n",
       "      <th>T</th>\n",
       "      <th>dof</th>\n",
       "      <th>alternative</th>\n",
       "      <th>p-val</th>\n",
       "      <th>CI95%</th>\n",
       "      <th>cohen-d</th>\n",
       "      <th>BF10</th>\n",
       "      <th>power</th>\n",
       "    </tr>\n",
       "  </thead>\n",
       "  <tbody>\n",
       "    <tr>\n",
       "      <th>T-test</th>\n",
       "      <td>-8.197564</td>\n",
       "      <td>34</td>\n",
       "      <td>two-sided</td>\n",
       "      <td>1.455685e-09</td>\n",
       "      <td>[67.4, 76.38]</td>\n",
       "      <td>1.385641</td>\n",
       "      <td>7.989e+06</td>\n",
       "      <td>1.0</td>\n",
       "    </tr>\n",
       "  </tbody>\n",
       "</table>\n",
       "</div>"
      ],
      "text/plain": [
       "               T  dof alternative         p-val          CI95%   cohen-d  \\\n",
       "T-test -8.197564   34   two-sided  1.455685e-09  [67.4, 76.38]  1.385641   \n",
       "\n",
       "             BF10  power  \n",
       "T-test  7.989e+06    1.0  "
      ]
     },
     "execution_count": 38,
     "metadata": {},
     "output_type": "execute_result"
    }
   ],
   "source": [
    "optimum = rawData[rawData[\"treatment_id\"] == 14][\"optimum\"].iloc[0]\n",
    "sampleSalience = salienceData[salienceData[\"treatment_id\"] == 14][\"order\"]\n",
    "pingouin.ttest(sampleSalience, optimum)"
   ]
  },
  {
   "cell_type": "code",
   "execution_count": 39,
   "metadata": {},
   "outputs": [
    {
     "data": {
      "text/html": [
       "<div>\n",
       "<style scoped>\n",
       "    .dataframe tbody tr th:only-of-type {\n",
       "        vertical-align: middle;\n",
       "    }\n",
       "\n",
       "    .dataframe tbody tr th {\n",
       "        vertical-align: top;\n",
       "    }\n",
       "\n",
       "    .dataframe thead th {\n",
       "        text-align: right;\n",
       "    }\n",
       "</style>\n",
       "<table border=\"1\" class=\"dataframe\">\n",
       "  <thead>\n",
       "    <tr style=\"text-align: right;\">\n",
       "      <th></th>\n",
       "      <th>T</th>\n",
       "      <th>dof</th>\n",
       "      <th>alternative</th>\n",
       "      <th>p-val</th>\n",
       "      <th>CI95%</th>\n",
       "      <th>cohen-d</th>\n",
       "      <th>BF10</th>\n",
       "      <th>power</th>\n",
       "    </tr>\n",
       "  </thead>\n",
       "  <tbody>\n",
       "    <tr>\n",
       "      <th>T-test</th>\n",
       "      <td>9.90574</td>\n",
       "      <td>34</td>\n",
       "      <td>two-sided</td>\n",
       "      <td>1.485905e-11</td>\n",
       "      <td>[67.4, 76.38]</td>\n",
       "      <td>1.674376</td>\n",
       "      <td>6.216e+08</td>\n",
       "      <td>1.0</td>\n",
       "    </tr>\n",
       "  </tbody>\n",
       "</table>\n",
       "</div>"
      ],
      "text/plain": [
       "              T  dof alternative         p-val          CI95%   cohen-d  \\\n",
       "T-test  9.90574   34   two-sided  1.485905e-11  [67.4, 76.38]  1.674376   \n",
       "\n",
       "             BF10  power  \n",
       "T-test  6.216e+08    1.0  "
      ]
     },
     "execution_count": 39,
     "metadata": {},
     "output_type": "execute_result"
    }
   ],
   "source": [
    "pingouin.ttest(sampleSalience, 50)"
   ]
  },
  {
   "attachments": {},
   "cell_type": "markdown",
   "metadata": {},
   "source": [
    "#### **Stata** code to estimate the pull-to-center decision rule"
   ]
  },
  {
   "attachments": {},
   "cell_type": "markdown",
   "metadata": {},
   "source": [
    "```\n",
    "ml model d0 RE_ANCHORING ( anchor: order optimum = ) ( ln_sigma_u: ) ( ln_sigma_e: ) if experiment_encoded == 3, technique(nr)  \n",
    "ml check\n",
    "ml maximize, difficult\n",
    "```"
   ]
  },
  {
   "attachments": {},
   "cell_type": "markdown",
   "metadata": {},
   "source": [
    "### 2.3. Salience results\n",
    "\n",
    "Using data from both experiments, we estimate the effect of salience on ordering decisions under different expediting cost levels using a RE model. The model has the following form:\n",
    "\n",
    "$Q_{i,t} = \\beta_0 + \\beta_1 ExpeditingCost_i + \\beta_2 Salience_i + \\beta_3 ExpeditingCost_i \\times Salience_i + \\gamma X_{i,t} + u_i + \\epsilon_{i,t}$,\n",
    "\n",
    "where $i$ is an index for participants and $t$ is an index for rounds. $Q_{i,t}$ indicates the ordering decision\n",
    "made by participant $i$ in round $t$, $ExpeditingCost_i$ captures the specific expediting cost faced\n",
    "by participant $i$ and $Salience_i$ is an indicator variable for the **Salience Experiment**, leaving the **Main Experiment** as the reference. We also consider the interaction between expediting costs and salience to capture how the expediting costs moderate the relationship between salience and ordering decisions. $u_i$ are the RE intercepts and $\\epsilon_{i,t}$ is the error term. $\\gamma X_{i,t}$ represents the control variables and their coefficients.\n",
    "\n",
    "We further explore the interaction effect by deriving its exact marginal effects. This analysis is run in **Stata**. We provide the Stata code below."
   ]
  },
  {
   "attachments": {},
   "cell_type": "markdown",
   "metadata": {},
   "source": [
    "#### Model with no interaction term"
   ]
  },
  {
   "cell_type": "code",
   "execution_count": 40,
   "metadata": {},
   "outputs": [
    {
     "name": "stderr",
     "output_type": "stream",
     "text": [
      "/mnt/c/Users/USER/DS_Projects/Paper_expediting/expedited_shipping/.conda/lib/python3.10/site-packages/linearmodels/panel/model.py:2574: MissingValueWarning: \n",
      "Inputs contain missing values. Dropping rows with missing observations.\n",
      "  super().__init__(dependent, exog, weights=weights, check_rank=check_rank)\n"
     ]
    },
    {
     "name": "stdout",
     "output_type": "stream",
     "text": [
      "                        RandomEffects Estimation Summary                        \n",
      "================================================================================\n",
      "Dep. Variable:                  order   R-squared:                        0.5093\n",
      "Estimator:              RandomEffects   R-squared (Between):              0.8900\n",
      "No. Observations:                7975   R-squared (Within):              -0.0969\n",
      "Date:                Tue, Jun 13 2023   R-squared (Overall):              0.5093\n",
      "Time:                        15:49:40   Log-likelihood                 -3.33e+04\n",
      "Cov. Estimator:            Unadjusted                                           \n",
      "                                        F-statistic:                      826.62\n",
      "Entities:                         335   P-value                           0.0000\n",
      "Avg Obs:                       23.806   Distribution:                 F(10,7964)\n",
      "Min Obs:                       19.000                                           \n",
      "Max Obs:                       29.000   F-statistic (robust):             826.62\n",
      "                                        P-value                           0.0000\n",
      "Time periods:                      29   Distribution:                 F(10,7964)\n",
      "Avg Obs:                       275.00                                           \n",
      "Min Obs:                       161.00                                           \n",
      "Max Obs:                       335.00                                           \n",
      "                                                                                \n",
      "                                    Parameter Estimates                                    \n",
      "===========================================================================================\n",
      "                         Parameter  Std. Err.     T-stat    P-value    Lower CI    Upper CI\n",
      "-------------------------------------------------------------------------------------------\n",
      "Intercept                   11.274     1.0008     11.264     0.0000      9.3117      13.235\n",
      "age                        -0.2186     0.1022    -2.1392     0.0324     -0.4190     -0.0183\n",
      "expediting_cost             0.4248     0.0209     20.332     0.0000      0.3839      0.4658\n",
      "experiment[T.Salience]      2.4661     0.3901     6.3212     0.0000      1.7013      3.2309\n",
      "gender_r                   -0.2598     0.3576    -0.7264     0.4676     -0.9608      0.4412\n",
      "lagdemand                   0.7021     0.0107     65.663     0.0000      0.6811      0.7231\n",
      "lagleftover                 0.5768     0.0119     48.359     0.0000      0.5535      0.6002\n",
      "lagshortage                -0.6181     0.0127    -48.706     0.0000     -0.6430     -0.5932\n",
      "related_course_r[T.Yes]     1.1301     0.3630     3.1129     0.0019      0.4184      1.8417\n",
      "round_r                    -0.0021     0.0242    -0.0857     0.9317     -0.0494      0.0453\n",
      "semester                    0.0896     0.0873     1.0262     0.3048     -0.0815      0.2607\n",
      "===========================================================================================\n"
     ]
    }
   ],
   "source": [
    "# We take the data from the Main and Salience Experiments\n",
    "rawDataMainSalience = rawData[((rawData[\"experiment\"] == \"Main\") & (rawData[\"included_treatment\"] == 1)) \\\n",
    "    | (rawData[\"experiment\"] == \"Salience\")].copy()\n",
    "\n",
    "rawDataMainSalience = rawDataMainSalience.set_index([\"subject_id_r\", \"round\"])\n",
    "independentVariables = \"expediting_cost + experiment + lagdemand + lagshortage + lagleftover + round_r + gender_r + \\\n",
    "    age + semester + related_course_r\"\n",
    "model = RandomEffects.from_formula(\"order ~ 1 + \" + independentVariables, rawDataMainSalience).fit()\n",
    "print(model)"
   ]
  },
  {
   "attachments": {},
   "cell_type": "markdown",
   "metadata": {},
   "source": [
    "#### Model with interaction term"
   ]
  },
  {
   "cell_type": "code",
   "execution_count": 41,
   "metadata": {},
   "outputs": [
    {
     "name": "stderr",
     "output_type": "stream",
     "text": [
      "/mnt/c/Users/USER/DS_Projects/Paper_expediting/expedited_shipping/.conda/lib/python3.10/site-packages/linearmodels/panel/model.py:2574: MissingValueWarning: \n",
      "Inputs contain missing values. Dropping rows with missing observations.\n",
      "  super().__init__(dependent, exog, weights=weights, check_rank=check_rank)\n"
     ]
    },
    {
     "name": "stdout",
     "output_type": "stream",
     "text": [
      "                        RandomEffects Estimation Summary                        \n",
      "================================================================================\n",
      "Dep. Variable:                  order   R-squared:                        0.5099\n",
      "Estimator:              RandomEffects   R-squared (Between):              0.8902\n",
      "No. Observations:                7975   R-squared (Within):              -0.0956\n",
      "Date:                Tue, Jun 13 2023   R-squared (Overall):              0.5099\n",
      "Time:                        15:49:42   Log-likelihood                 -3.33e+04\n",
      "Cov. Estimator:            Unadjusted                                           \n",
      "                                        F-statistic:                      753.14\n",
      "Entities:                         335   P-value                           0.0000\n",
      "Avg Obs:                       23.806   Distribution:                 F(11,7963)\n",
      "Min Obs:                       19.000                                           \n",
      "Max Obs:                       29.000   F-statistic (robust):             753.14\n",
      "                                        P-value                           0.0000\n",
      "Time periods:                      29   Distribution:                 F(11,7963)\n",
      "Avg Obs:                       275.00                                           \n",
      "Min Obs:                       161.00                                           \n",
      "Max Obs:                       335.00                                           \n",
      "                                                                                \n",
      "                                           Parameter Estimates                                            \n",
      "==========================================================================================================\n",
      "                                        Parameter  Std. Err.     T-stat    P-value    Lower CI    Upper CI\n",
      "----------------------------------------------------------------------------------------------------------\n",
      "Intercept                                  10.787     1.0126     10.653     0.0000      8.8021      12.772\n",
      "age                                       -0.2204     0.1021    -2.1574     0.0310     -0.4206     -0.0201\n",
      "expediting_cost                            0.4760     0.0267     17.846     0.0000      0.4237      0.5283\n",
      "experiment[T.Salience]                     4.1456     0.6697     6.1897     0.0000      2.8327      5.4584\n",
      "gender_r                                  -0.2947     0.3576    -0.8241     0.4099     -0.9957      0.4063\n",
      "lagdemand                                  0.7007     0.0107     65.512     0.0000      0.6798      0.7217\n",
      "lagleftover                                0.5753     0.0119     48.214     0.0000      0.5519      0.5987\n",
      "lagshortage                               -0.6164     0.0127    -48.559     0.0000     -0.6413     -0.5915\n",
      "related_course_r[T.Yes]                    1.1726     0.3631     3.2294     0.0012      0.4608      1.8844\n",
      "round_r                                   -0.0022     0.0241    -0.0907     0.9277     -0.0495      0.0451\n",
      "semester                                   0.0705     0.0875     0.8062     0.4201     -0.1009      0.2420\n",
      "expediting_cost:experiment[T.Salience]    -0.1187     0.0385    -3.0842     0.0020     -0.1942     -0.0433\n",
      "==========================================================================================================\n"
     ]
    }
   ],
   "source": [
    "independentVariables = \"expediting_cost + experiment + expediting_cost*experiment + lagdemand + lagshortage + \\\n",
    "    lagleftover + round_r + gender_r + age + semester + related_course_r\"\n",
    "model = RandomEffects.from_formula(\"order ~ 1 + \" + independentVariables, rawDataMainSalience).fit()\n",
    "print(model)"
   ]
  },
  {
   "attachments": {},
   "cell_type": "markdown",
   "metadata": {},
   "source": [
    "#### **Stata** code to estimate the marginal effects"
   ]
  },
  {
   "attachments": {},
   "cell_type": "markdown",
   "metadata": {},
   "source": [
    "\\* Make sure to replace `path_to_csv_file` with the appropriate path to the csv file with the raw data\n",
    "```\n",
    "import delimited path_to_csv_file\n",
    "```\n",
    "\n",
    "\\* Set the indexes to run a RE model  \n",
    "```\n",
    "xtset subject_id_r round\n",
    "```\n",
    "\n",
    "\\* Generate categorical variables from existing string variables. In this case, we generate a categorical variable that captures the experiment. This variable is later used to filter the appropriate data for the estimation. We also generate a categorical variable that captures a piece of demographic information\n",
    "```\n",
    "encode experiment, gen(experiment_encoded)\n",
    "encode related_course_r, gen(related_course_r_encoded)\n",
    "```\n",
    "\n",
    "\\* RE estimation\n",
    "```\n",
    "xtreg order c.expediting_cost##ib2.experiment_encoded lagdemand lagshortage lagleftover round i.gender_r age semester i.related_course_r_encoded if ((experiment_encoded == 2 & included_treatment == 1) | experiment_encoded == 3), re\n",
    "```\n",
    "\n",
    "\\* Marginal effects estimation. We include a plot to see the results graphically\n",
    "```\n",
    "margins ib2.experiment_encoded, at(expediting_cost = (4 6 12 18 30))\n",
    "marginsplot\n",
    "```"
   ]
  },
  {
   "attachments": {},
   "cell_type": "markdown",
   "metadata": {},
   "source": [
    "## 3. Robustness checks"
   ]
  },
  {
   "attachments": {},
   "cell_type": "markdown",
   "metadata": {},
   "source": [
    "### 3.1. Expediting cost\n",
    "\n",
    "The **Expediting cost** analysis reported in the **Main Experiment** is consistent across two different operationalizations of the expediting cost that separate the expediting cost:\n",
    "\n",
    "1. by expediting level, i.e., profitable, breakeven and unprofitable, and\n",
    "2. by treatment, i.e., treating the expediting cost as categorical variable.\n",
    "\n",
    "These results are reported in the paper's e-companion.\n",
    "\n",
    "The following source helped us organize the data for the second robustness check:\n",
    "\n",
    "- [Pandas DataFrame sort by categorical column but by specific class ordering](https://stackoverflow.com/questions/39223256/pandas-dataframe-sort-by-categorical-column-but-by-specific-class-ordering)"
   ]
  },
  {
   "attachments": {},
   "cell_type": "markdown",
   "metadata": {},
   "source": [
    "#### Using the feature `expediting_level`, with `Breakeven` expediting as the reference"
   ]
  },
  {
   "cell_type": "code",
   "execution_count": 42,
   "metadata": {},
   "outputs": [
    {
     "name": "stderr",
     "output_type": "stream",
     "text": [
      "/mnt/c/Users/USER/DS_Projects/Paper_expediting/expedited_shipping/.conda/lib/python3.10/site-packages/linearmodels/panel/model.py:2574: MissingValueWarning: \n",
      "Inputs contain missing values. Dropping rows with missing observations.\n",
      "  super().__init__(dependent, exog, weights=weights, check_rank=check_rank)\n"
     ]
    },
    {
     "name": "stdout",
     "output_type": "stream",
     "text": [
      "                        RandomEffects Estimation Summary                        \n",
      "================================================================================\n",
      "Dep. Variable:                  order   R-squared:                        0.4897\n",
      "Estimator:              RandomEffects   R-squared (Between):              0.8831\n",
      "No. Observations:                4669   R-squared (Within):              -0.0547\n",
      "Date:                Tue, Jun 13 2023   R-squared (Overall):              0.4897\n",
      "Time:                        15:49:51   Log-likelihood                -1.957e+04\n",
      "Cov. Estimator:            Unadjusted                                           \n",
      "                                        F-statistic:                      447.02\n",
      "Entities:                         161   P-value                           0.0000\n",
      "Avg Obs:                       29.000   Distribution:                 F(10,4658)\n",
      "Min Obs:                       29.000                                           \n",
      "Max Obs:                       29.000   F-statistic (robust):             447.02\n",
      "                                        P-value                           0.0000\n",
      "Time periods:                      29   Distribution:                 F(10,4658)\n",
      "Avg Obs:                       161.00                                           \n",
      "Min Obs:                       161.00                                           \n",
      "Max Obs:                       161.00                                           \n",
      "                                                                                \n",
      "                                        Parameter Estimates                                         \n",
      "====================================================================================================\n",
      "                                  Parameter  Std. Err.     T-stat    P-value    Lower CI    Upper CI\n",
      "----------------------------------------------------------------------------------------------------\n",
      "Intercept                            16.924     1.3382     12.646     0.0000      14.300      19.547\n",
      "age                                 -0.3921     0.1392    -2.8158     0.0049     -0.6651     -0.1191\n",
      "expediting_level[T.Profitable]      -3.2843     0.6568    -5.0001     0.0000     -4.5720     -1.9966\n",
      "expediting_level[T.Unprofitable]     8.3613     0.6906     12.107     0.0000      7.0074      9.7152\n",
      "gender_r                             1.2840     0.4826     2.6608     0.0078      0.3379      2.2300\n",
      "lagdemand                            0.6211     0.0147     42.126     0.0000      0.5922      0.6500\n",
      "lagleftover                          0.5054     0.0164     30.840     0.0000      0.4733      0.5375\n",
      "lagshortage                         -0.5595     0.0170    -32.927     0.0000     -0.5929     -0.5262\n",
      "related_course_r[T.Yes]              1.4833     0.4901     3.0265     0.0025      0.5225      2.4441\n",
      "round_r                             -0.0108     0.0281    -0.3834     0.7014     -0.0658      0.0442\n",
      "semester                             0.4804     0.1218     3.9452     0.0001      0.2417      0.7191\n",
      "====================================================================================================\n"
     ]
    }
   ],
   "source": [
    "independentVariables = \"expediting_level + lagdemand + lagshortage + lagleftover + round_r + gender_r + age + \\\n",
    "    semester + related_course_r\"\n",
    "model = RandomEffects.from_formula(\"order ~ 1 + \" + independentVariables, rawDataMain).fit()\n",
    "print(model)"
   ]
  },
  {
   "attachments": {},
   "cell_type": "markdown",
   "metadata": {},
   "source": [
    "#### Using the feature `expediting_cost` as categorical variable, with $k = 12$ as the reference"
   ]
  },
  {
   "cell_type": "code",
   "execution_count": 43,
   "metadata": {},
   "outputs": [
    {
     "name": "stdout",
     "output_type": "stream",
     "text": [
      "                        RandomEffects Estimation Summary                        \n",
      "================================================================================\n",
      "Dep. Variable:                  order   R-squared:                        0.4916\n",
      "Estimator:              RandomEffects   R-squared (Between):              0.8839\n",
      "No. Observations:                4669   R-squared (Within):              -0.0514\n",
      "Date:                Tue, Jun 13 2023   R-squared (Overall):              0.4916\n",
      "Time:                        15:49:55   Log-likelihood                -1.956e+04\n",
      "Cov. Estimator:            Unadjusted                                           \n",
      "                                        F-statistic:                      375.12\n",
      "Entities:                         161   P-value                           0.0000\n",
      "Avg Obs:                       29.000   Distribution:                 F(12,4656)\n",
      "Min Obs:                       29.000                                           \n",
      "Max Obs:                       29.000   F-statistic (robust):             375.12\n",
      "                                        P-value                           0.0000\n",
      "Time periods:                      29   Distribution:                 F(12,4656)\n",
      "Avg Obs:                       161.00                                           \n",
      "Min Obs:                       161.00                                           \n",
      "Max Obs:                       161.00                                           \n",
      "                                                                                \n",
      "                                    Parameter Estimates                                    \n",
      "===========================================================================================\n",
      "                         Parameter  Std. Err.     T-stat    P-value    Lower CI    Upper CI\n",
      "-------------------------------------------------------------------------------------------\n",
      "Intercept                   16.951     1.3449     12.604     0.0000      14.314      19.588\n",
      "age                        -0.4512     0.1398    -3.2285     0.0013     -0.7252     -0.1772\n",
      "expediting_cost[T.4]       -4.8233     0.7729    -6.2405     0.0000     -6.3386     -3.3081\n",
      "expediting_cost[T.6]       -1.8922     0.7454    -2.5386     0.0112     -3.3535     -0.4309\n",
      "expediting_cost[T.18]       7.8861     0.7778     10.139     0.0000      6.3612      9.4110\n",
      "expediting_cost[T.30]       8.8518     0.8039     11.011     0.0000      7.2757      10.428\n",
      "gender_r                    1.1878     0.4855     2.4466     0.0145      0.2360      2.1396\n",
      "lagdemand                   0.6161     0.0148     41.691     0.0000      0.5871      0.6451\n",
      "lagleftover                 0.5005     0.0164     30.510     0.0000      0.4683      0.5327\n",
      "lagshortage                -0.5546     0.0170    -32.596     0.0000     -0.5880     -0.5213\n",
      "related_course_r[T.Yes]     1.4695     0.4893     3.0031     0.0027      0.5102      2.4288\n",
      "round_r                    -0.0113     0.0280    -0.4022     0.6875     -0.0662      0.0436\n",
      "semester                    0.5759     0.1279     4.5025     0.0000      0.3251      0.8266\n",
      "===========================================================================================\n"
     ]
    },
    {
     "name": "stderr",
     "output_type": "stream",
     "text": [
      "/mnt/c/Users/USER/DS_Projects/Paper_expediting/expedited_shipping/.conda/lib/python3.10/site-packages/linearmodels/panel/model.py:2574: MissingValueWarning: \n",
      "Inputs contain missing values. Dropping rows with missing observations.\n",
      "  super().__init__(dependent, exog, weights=weights, check_rank=check_rank)\n"
     ]
    }
   ],
   "source": [
    "independentVariables = \"expediting_cost + lagdemand + lagshortage + lagleftover + round_r + gender_r + age + \\\n",
    "    semester + related_course_r\"\n",
    "\n",
    "# We set 'k = 12 as' the reference category\n",
    "rawDataMain[\"expediting_cost\"] = rawDataMain[\"expediting_cost\"].astype(\"category\")\n",
    "categoryOrdering = [12, 4, 6, 18, 30]  \n",
    "rawDataMain[\"expediting_cost\"] = rawDataMain[\"expediting_cost\"].cat.reorder_categories(categoryOrdering, ordered = True)\n",
    "\n",
    "model = RandomEffects.from_formula(\"order ~ 1 + \" + independentVariables, rawDataMain).fit()\n",
    "print(model)"
   ]
  },
  {
   "attachments": {},
   "cell_type": "markdown",
   "metadata": {},
   "source": [
    "### 3.2. Order-of-presentation effects"
   ]
  },
  {
   "attachments": {},
   "cell_type": "markdown",
   "metadata": {},
   "source": [
    "#### 3.2.1. Three orders of play\n",
    "\n",
    "In the **Salience Experiment**, each participant played three treatments. Their order of presentation was randomized. Nonetheless, we compare ordering performance among the three orders of play to rule out that our findings are driven by the order in which we presented the treatments to participants.\n",
    "\n",
    "Results show we can rule out order-of-presentation effects. These results are reported in the e-companion."
   ]
  },
  {
   "cell_type": "code",
   "execution_count": 44,
   "metadata": {},
   "outputs": [],
   "source": [
    "# We take participants' average orders from the Salience treatments for 'playing_order = 1', 'playing_order = 2'\n",
    "# and 'playing_order = 3'. We only filter by 'playing_order' since the Contract treatments were already filtered out\n",
    "# and the Main treatments have 'playing_order = NaN'\n",
    "salience_first = main_salience[main_salience[\"playing_order\"] == 1].\\\n",
    "    groupby([\"treatment_id\", \"subject_id\"])[\"order\"].mean().reset_index()\n",
    "salience_middle = main_salience[main_salience[\"playing_order\"] == 2].\\\n",
    "    groupby([\"treatment_id\", \"subject_id\"])[\"order\"].mean().reset_index() \n",
    "salience_last = main_salience[main_salience[\"playing_order\"] == 3].\\\n",
    "    groupby([\"treatment_id\", \"subject_id\"])[\"order\"].mean().reset_index()"
   ]
  },
  {
   "attachments": {},
   "cell_type": "markdown",
   "metadata": {},
   "source": [
    "#### $k = 4$"
   ]
  },
  {
   "cell_type": "code",
   "execution_count": 45,
   "metadata": {},
   "outputs": [
    {
     "data": {
      "text/plain": [
       "F_onewayResult(statistic=1.9581126956195578, pvalue=0.1581915516658052)"
      ]
     },
     "execution_count": 45,
     "metadata": {},
     "output_type": "execute_result"
    }
   ],
   "source": [
    "# We take data from 'k = 4'\n",
    "sample_salience_f = salience_first[salience_first[\"treatment_id\"] == 10][\"order\"]\n",
    "sample_salience_m = salience_middle[salience_middle[\"treatment_id\"] == 10][\"order\"]\n",
    "sample_salience_l = salience_last[salience_last[\"treatment_id\"] == 10][\"order\"]\n",
    "\n",
    "# We compute the one-way ANOVA\n",
    "f_oneway(sample_salience_f, sample_salience_m, sample_salience_l)"
   ]
  },
  {
   "cell_type": "code",
   "execution_count": 46,
   "metadata": {},
   "outputs": [
    {
     "data": {
      "text/plain": [
       "KruskalResult(statistic=4.522857142857163, pvalue=0.10420151906308554)"
      ]
     },
     "execution_count": 46,
     "metadata": {},
     "output_type": "execute_result"
    }
   ],
   "source": [
    "# As a robustness check, we also compute a Kruskal-Wallis test\n",
    "kruskal(sample_salience_f, sample_salience_m, sample_salience_l)"
   ]
  },
  {
   "attachments": {},
   "cell_type": "markdown",
   "metadata": {},
   "source": [
    "#### $k = 6$"
   ]
  },
  {
   "cell_type": "code",
   "execution_count": 47,
   "metadata": {},
   "outputs": [
    {
     "data": {
      "text/plain": [
       "F_onewayResult(statistic=0.9551147123020116, pvalue=0.39546495537580945)"
      ]
     },
     "execution_count": 47,
     "metadata": {},
     "output_type": "execute_result"
    }
   ],
   "source": [
    "sample_salience_f = salience_first[salience_first[\"treatment_id\"] == 11][\"order\"]\n",
    "sample_salience_m = salience_middle[salience_middle[\"treatment_id\"] == 11][\"order\"]\n",
    "sample_salience_l = salience_last[salience_last[\"treatment_id\"] == 11][\"order\"]\n",
    "f_oneway(sample_salience_f, sample_salience_m, sample_salience_l)"
   ]
  },
  {
   "cell_type": "code",
   "execution_count": 48,
   "metadata": {},
   "outputs": [
    {
     "data": {
      "text/plain": [
       "KruskalResult(statistic=2.0344877344877403, pvalue=0.36159015854636767)"
      ]
     },
     "execution_count": 48,
     "metadata": {},
     "output_type": "execute_result"
    }
   ],
   "source": [
    "kruskal(sample_salience_f, sample_salience_m, sample_salience_l)"
   ]
  },
  {
   "attachments": {},
   "cell_type": "markdown",
   "metadata": {},
   "source": [
    "#### $k = 12$"
   ]
  },
  {
   "cell_type": "code",
   "execution_count": 49,
   "metadata": {},
   "outputs": [
    {
     "data": {
      "text/plain": [
       "F_onewayResult(statistic=0.10258366590815532, pvalue=0.9027982176339291)"
      ]
     },
     "execution_count": 49,
     "metadata": {},
     "output_type": "execute_result"
    }
   ],
   "source": [
    "sample_salience_f = salience_first[salience_first[\"treatment_id\"] == 12][\"order\"]\n",
    "sample_salience_m = salience_middle[salience_middle[\"treatment_id\"] == 12][\"order\"]\n",
    "sample_salience_l = salience_last[salience_last[\"treatment_id\"] == 12][\"order\"]\n",
    "f_oneway(sample_salience_f, sample_salience_m, sample_salience_l)"
   ]
  },
  {
   "cell_type": "code",
   "execution_count": 50,
   "metadata": {},
   "outputs": [
    {
     "data": {
      "text/plain": [
       "KruskalResult(statistic=0.20515138781004738, pvalue=0.9025098326738075)"
      ]
     },
     "execution_count": 50,
     "metadata": {},
     "output_type": "execute_result"
    }
   ],
   "source": [
    "kruskal(sample_salience_f, sample_salience_m, sample_salience_l)"
   ]
  },
  {
   "attachments": {},
   "cell_type": "markdown",
   "metadata": {},
   "source": [
    "#### $k = 18$"
   ]
  },
  {
   "cell_type": "code",
   "execution_count": 51,
   "metadata": {},
   "outputs": [
    {
     "data": {
      "text/plain": [
       "F_onewayResult(statistic=0.8158370866636832, pvalue=0.45125690765280124)"
      ]
     },
     "execution_count": 51,
     "metadata": {},
     "output_type": "execute_result"
    }
   ],
   "source": [
    "sample_salience_f = salience_first[salience_first[\"treatment_id\"] == 13][\"order\"]\n",
    "sample_salience_m = salience_middle[salience_middle[\"treatment_id\"] == 13][\"order\"]\n",
    "sample_salience_l = salience_last[salience_last[\"treatment_id\"] == 13][\"order\"]\n",
    "f_oneway(sample_salience_f, sample_salience_m, sample_salience_l)"
   ]
  },
  {
   "cell_type": "code",
   "execution_count": 52,
   "metadata": {},
   "outputs": [
    {
     "data": {
      "text/plain": [
       "KruskalResult(statistic=1.7245090297766292, pvalue=0.4222091317272815)"
      ]
     },
     "execution_count": 52,
     "metadata": {},
     "output_type": "execute_result"
    }
   ],
   "source": [
    "kruskal(sample_salience_f, sample_salience_m, sample_salience_l)"
   ]
  },
  {
   "attachments": {},
   "cell_type": "markdown",
   "metadata": {},
   "source": [
    "#### $k = 30$"
   ]
  },
  {
   "cell_type": "code",
   "execution_count": 53,
   "metadata": {},
   "outputs": [
    {
     "data": {
      "text/plain": [
       "F_onewayResult(statistic=0.3005907632178378, pvalue=0.7424482936337224)"
      ]
     },
     "execution_count": 53,
     "metadata": {},
     "output_type": "execute_result"
    }
   ],
   "source": [
    "sample_salience_f = salience_first[salience_first[\"treatment_id\"] == 14][\"order\"]\n",
    "sample_salience_m = salience_middle[salience_middle[\"treatment_id\"] == 14][\"order\"]\n",
    "sample_salience_l = salience_last[salience_last[\"treatment_id\"] == 14][\"order\"]\n",
    "f_oneway(sample_salience_f, sample_salience_m, sample_salience_l)"
   ]
  },
  {
   "cell_type": "code",
   "execution_count": 54,
   "metadata": {},
   "outputs": [
    {
     "data": {
      "text/plain": [
       "KruskalResult(statistic=0.7563492063492134, pvalue=0.6851108676895694)"
      ]
     },
     "execution_count": 54,
     "metadata": {},
     "output_type": "execute_result"
    }
   ],
   "source": [
    "kruskal(sample_salience_f, sample_salience_m, sample_salience_l)"
   ]
  },
  {
   "attachments": {},
   "cell_type": "markdown",
   "metadata": {},
   "source": [
    "#### 3.2.2. Salience's first order of play and Main\n",
    "\n",
    "In the **Salience Experiment**, each participant played three treatments. We replicate the RE estimations that bundle data from both experiments, but considering only the `playing_order = 1` data from the **Salience Experiment**.\n",
    "\n",
    "Results are consistent with the **Salience results** (Section 2.3). These results aren't reported in the e-companion but in a response letter."
   ]
  },
  {
   "attachments": {},
   "cell_type": "markdown",
   "metadata": {},
   "source": [
    "##### Model with no interaction term"
   ]
  },
  {
   "cell_type": "code",
   "execution_count": 55,
   "metadata": {},
   "outputs": [
    {
     "name": "stderr",
     "output_type": "stream",
     "text": [
      "/mnt/c/Users/USER/DS_Projects/Paper_expediting/expedited_shipping/.conda/lib/python3.10/site-packages/linearmodels/panel/model.py:2574: MissingValueWarning: \n",
      "Inputs contain missing values. Dropping rows with missing observations.\n",
      "  super().__init__(dependent, exog, weights=weights, check_rank=check_rank)\n"
     ]
    },
    {
     "name": "stdout",
     "output_type": "stream",
     "text": [
      "                        RandomEffects Estimation Summary                        \n",
      "================================================================================\n",
      "Dep. Variable:                  order   R-squared:                        0.4768\n",
      "Estimator:              RandomEffects   R-squared (Between):              0.8743\n",
      "No. Observations:                5771   R-squared (Within):              -0.0624\n",
      "Date:                Tue, Jun 13 2023   R-squared (Overall):              0.4768\n",
      "Time:                        15:50:30   Log-likelihood                -2.422e+04\n",
      "Cov. Estimator:            Unadjusted                                           \n",
      "                                        F-statistic:                      524.95\n",
      "Entities:                         219   P-value                           0.0000\n",
      "Avg Obs:                       26.352   Distribution:                 F(10,5760)\n",
      "Min Obs:                       19.000                                           \n",
      "Max Obs:                       29.000   F-statistic (robust):             524.95\n",
      "                                        P-value                           0.0000\n",
      "Time periods:                      29   Distribution:                 F(10,5760)\n",
      "Avg Obs:                       199.00                                           \n",
      "Min Obs:                       161.00                                           \n",
      "Max Obs:                       219.00                                           \n",
      "                                                                                \n",
      "                                    Parameter Estimates                                    \n",
      "===========================================================================================\n",
      "                         Parameter  Std. Err.     T-stat    P-value    Lower CI    Upper CI\n",
      "-------------------------------------------------------------------------------------------\n",
      "Intercept                   11.916     1.1574     10.295     0.0000      9.6471      14.185\n",
      "age                        -0.3419     0.1237    -2.7637     0.0057     -0.5844     -0.0994\n",
      "expediting_cost             0.4759     0.0253     18.794     0.0000      0.4263      0.5255\n",
      "experiment[T.Salience]      3.2126     0.5687     5.6491     0.0000      2.0977      4.3274\n",
      "gender_r                    0.9656     0.4313     2.2387     0.0252      0.1201      1.8111\n",
      "lagdemand                   0.6573     0.0131     50.307     0.0000      0.6317      0.6829\n",
      "lagleftover                 0.5257     0.0145     36.260     0.0000      0.4973      0.5541\n",
      "lagshortage                -0.5766     0.0153    -37.666     0.0000     -0.6066     -0.5466\n",
      "related_course_r[T.Yes]     1.1509     0.4394     2.6190     0.0088      0.2894      2.0123\n",
      "round_r                    -0.0141     0.0269    -0.5261     0.5988     -0.0668      0.0385\n",
      "semester                    0.2789     0.1067     2.6130     0.0090      0.0696      0.4881\n",
      "===========================================================================================\n"
     ]
    }
   ],
   "source": [
    "# We take data with 'playing_order = 1' from the Salience Experiment\n",
    "salienceFirst = main_salience[main_salience[\"playing_order\"] == 1].copy()\n",
    "\n",
    "# We take the data from the Main Experiment. It's necessary to do this again given some manipulations we performed\n",
    "# above with the feature 'expediting_cost'\n",
    "rawDataMain = rawData[(rawData[\"experiment\"] == \"Main\") & (rawData[\"included_treatment\"] == 1)].copy()\n",
    "\n",
    "# We bundle the Salience data we pulled above with the Main data\n",
    "bundle = pd.concat([salienceFirst, rawDataMain])\n",
    "\n",
    "bundle = bundle.set_index([\"subject_id_r\", \"round\"])\n",
    "independentVariables = \"expediting_cost + experiment + lagdemand + lagshortage + lagleftover + round_r + gender_r + \\\n",
    "    age + semester + related_course_r\"\n",
    "model = RandomEffects.from_formula(\"order ~ 1 + \" + independentVariables, bundle).fit()\n",
    "print(model)"
   ]
  },
  {
   "attachments": {},
   "cell_type": "markdown",
   "metadata": {},
   "source": [
    "##### Model with interaction term"
   ]
  },
  {
   "cell_type": "code",
   "execution_count": 56,
   "metadata": {},
   "outputs": [
    {
     "name": "stderr",
     "output_type": "stream",
     "text": [
      "/mnt/c/Users/USER/DS_Projects/Paper_expediting/expedited_shipping/.conda/lib/python3.10/site-packages/linearmodels/panel/model.py:2574: MissingValueWarning: \n",
      "Inputs contain missing values. Dropping rows with missing observations.\n",
      "  super().__init__(dependent, exog, weights=weights, check_rank=check_rank)\n"
     ]
    },
    {
     "name": "stdout",
     "output_type": "stream",
     "text": [
      "                        RandomEffects Estimation Summary                        \n",
      "================================================================================\n",
      "Dep. Variable:                  order   R-squared:                        0.4783\n",
      "Estimator:              RandomEffects   R-squared (Between):              0.8758\n",
      "No. Observations:                5771   R-squared (Within):              -0.0600\n",
      "Date:                Tue, Jun 13 2023   R-squared (Overall):              0.4783\n",
      "Time:                        15:50:34   Log-likelihood                -2.421e+04\n",
      "Cov. Estimator:            Unadjusted                                           \n",
      "                                        F-statistic:                      479.93\n",
      "Entities:                         219   P-value                           0.0000\n",
      "Avg Obs:                       26.352   Distribution:                 F(11,5759)\n",
      "Min Obs:                       19.000                                           \n",
      "Max Obs:                       29.000   F-statistic (robust):             479.93\n",
      "                                        P-value                           0.0000\n",
      "Time periods:                      29   Distribution:                 F(11,5759)\n",
      "Avg Obs:                       199.00                                           \n",
      "Min Obs:                       161.00                                           \n",
      "Max Obs:                       219.00                                           \n",
      "                                                                                \n",
      "                                           Parameter Estimates                                            \n",
      "==========================================================================================================\n",
      "                                        Parameter  Std. Err.     T-stat    P-value    Lower CI    Upper CI\n",
      "----------------------------------------------------------------------------------------------------------\n",
      "Intercept                                  11.438     1.1621     9.8424     0.0000      9.1595      13.716\n",
      "age                                       -0.3202     0.1237    -2.5893     0.0096     -0.5626     -0.0778\n",
      "expediting_cost                            0.5240     0.0280     18.718     0.0000      0.4691      0.5788\n",
      "experiment[T.Salience]                     6.5365     1.0060     6.4978     0.0000      4.5645      8.5086\n",
      "gender_r                                   0.9675     0.4308     2.2460     0.0247      0.1230      1.8119\n",
      "lagdemand                                  0.6539     0.0131     50.017     0.0000      0.6283      0.6796\n",
      "lagleftover                                0.5227     0.0145     36.049     0.0000      0.4943      0.5511\n",
      "lagshortage                               -0.5728     0.0153    -37.393     0.0000     -0.6029     -0.5428\n",
      "related_course_r[T.Yes]                    1.1408     0.4389     2.5994     0.0094      0.2804      2.0011\n",
      "round_r                                   -0.0144     0.0268    -0.5383     0.5904     -0.0670      0.0381\n",
      "semester                                   0.2618     0.1067     2.4544     0.0141      0.0527      0.4709\n",
      "expediting_cost:experiment[T.Salience]    -0.2316     0.0579    -4.0034     0.0001     -0.3450     -0.1182\n",
      "==========================================================================================================\n"
     ]
    }
   ],
   "source": [
    "independentVariables = \"expediting_cost + experiment + expediting_cost*experiment + lagdemand + lagshortage + \\\n",
    "    lagleftover + round_r + gender_r + age + semester + related_course_r\"\n",
    "model = RandomEffects.from_formula(\"order ~ 1 + \" + independentVariables, bundle).fit()\n",
    "print(model)"
   ]
  },
  {
   "attachments": {},
   "cell_type": "markdown",
   "metadata": {},
   "source": [
    "### 3.3. Error structure\n",
    "\n",
    "The econometric analyses assume effects of previous periods on the current period's order. We check whether the structure of the errors influences the validity of our results. We run three additional regressions for the **Main Experiment** to check the robustness of our results:\n",
    "\n",
    "1. Using robust standard errors (SE) to account for heteroskedasticity and autocorrelation in the errors.\n",
    "2. Using a Generalized Least Square (GLS) estimation with AR1 autocorrelation, which allows to consider additional features of the error structure, including autocorrelation.\n",
    "3. Using a GLS estimation with panel-specific AR1 autocorrelation structure.\n",
    "\n",
    "This analysis is run in **Stata**. We provide the Stata code below and briefly comment the results.\n",
    "\n",
    "Results are consistent with the results reported for the **Main Experiment** in the **Expediting cost** analysis (Section 1.2). These results aren't reported in the e-companion but in the response letter."
   ]
  },
  {
   "attachments": {},
   "cell_type": "markdown",
   "metadata": {},
   "source": [
    "#### **Stata** code to estimate the additional models"
   ]
  },
  {
   "attachments": {},
   "cell_type": "markdown",
   "metadata": {},
   "source": [
    "\\* Make sure to replace `path_to_csv_file` with the appropriate path to the csv file with the raw data\n",
    "```\n",
    "import delimited path_to_csv_file\n",
    "```\n",
    "\n",
    "\\* Set the indexes to run a RE model  \n",
    "```\n",
    "xtset subject_id_r round\n",
    "```\n",
    "\n",
    "\\* Generate categorical variables from existing string variables. In this case, we generate a categorical variable that captures the experiment. This variable is later used to filter the appropriate data for the estimation. We also generate a dummy variable that captures a piece of demographic information. By dummifying the variable, Stata shows all the estimation output, which doesn't happen if we input the variable as categorical\n",
    "```\n",
    "encode experiment, gen(experiment_encoded)\n",
    "tab related_course_r, gen(r_c)\n",
    "```\n",
    "\n",
    "\\* RE estimation with robust SE\n",
    "```\n",
    "xtreg order expediting_cost lagdemand lagshortage lagleftover round gender_r age semester r_c2 if experiment_encoded == 2 & included_treatment == 1, re vce(r)\n",
    "```\n",
    "\n",
    "\\* GLS estimation with AR1 autocorrelation\n",
    "```\n",
    "xtgls order expediting_cost lagdemand lagshortage lagleftover round gender_r semester r_c2 if experiment_encoded == 2 & included_treatment == 1, corr(ar1)\n",
    "```\n",
    "\n",
    "\\* GLS estimation with panel-specific AR1 autocorrelation\n",
    "```\n",
    "xtgls order expediting_cost lagdemand lagshortage lagleftover round gender_r age semester r_c2 if experiment_encoded == 2 & included_treatment == 1, corr(psar1)\n",
    "```"
   ]
  },
  {
   "attachments": {},
   "cell_type": "markdown",
   "metadata": {},
   "source": []
  }
 ],
 "metadata": {
  "kernelspec": {
   "display_name": "Python 3",
   "language": "python",
   "name": "python3"
  },
  "language_info": {
   "codemirror_mode": {
    "name": "ipython",
    "version": 3
   },
   "file_extension": ".py",
   "mimetype": "text/x-python",
   "name": "python",
   "nbconvert_exporter": "python",
   "pygments_lexer": "ipython3",
   "version": "3.10.10"
  },
  "orig_nbformat": 4
 },
 "nbformat": 4,
 "nbformat_minor": 2
}
